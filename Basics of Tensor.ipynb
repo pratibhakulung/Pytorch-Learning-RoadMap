{
 "cells": [
  {
   "cell_type": "code",
   "execution_count": 1,
   "id": "c722d5aa",
   "metadata": {},
   "outputs": [],
   "source": [
    "import torch"
   ]
  },
  {
   "cell_type": "markdown",
   "id": "61f29fd5",
   "metadata": {},
   "source": [
    "Basic Mathematical Operation"
   ]
  },
  {
   "cell_type": "code",
   "execution_count": 25,
   "id": "cc120c9d",
   "metadata": {},
   "outputs": [
    {
     "data": {
      "text/plain": [
       "tensor([2.3694e-38, 8.2485e-01, 8.9776e-01])"
      ]
     },
     "execution_count": 25,
     "metadata": {},
     "output_type": "execute_result"
    }
   ],
   "source": [
    "x=torch.empty(3)\n",
    "x"
   ]
  },
  {
   "cell_type": "code",
   "execution_count": 26,
   "id": "cb62f04d",
   "metadata": {},
   "outputs": [
    {
     "data": {
      "text/plain": [
       "tensor([[-1.1903e+21,  1.0874e-42,  0.0000e+00],\n",
       "        [ 0.0000e+00,  0.0000e+00,  0.0000e+00]])"
      ]
     },
     "execution_count": 26,
     "metadata": {},
     "output_type": "execute_result"
    }
   ],
   "source": [
    "x2=torch.empty(2,3)\n",
    "x2"
   ]
  },
  {
   "cell_type": "code",
   "execution_count": 6,
   "id": "67e02445",
   "metadata": {},
   "outputs": [
    {
     "data": {
      "text/plain": [
       "tensor([[0.9804, 0.9894],\n",
       "        [0.4910, 0.4021]])"
      ]
     },
     "execution_count": 6,
     "metadata": {},
     "output_type": "execute_result"
    }
   ],
   "source": [
    "xrand=torch.rand(2,2)\n",
    "xrand"
   ]
  },
  {
   "cell_type": "code",
   "execution_count": 15,
   "id": "08510d6c",
   "metadata": {},
   "outputs": [
    {
     "data": {
      "text/plain": [
       "torch.Size([3])"
      ]
     },
     "execution_count": 15,
     "metadata": {},
     "output_type": "execute_result"
    }
   ],
   "source": [
    "x=torch.tensor([1,2,3])\n",
    "x.size()"
   ]
  },
  {
   "cell_type": "code",
   "execution_count": 27,
   "id": "e0cf1062",
   "metadata": {},
   "outputs": [
    {
     "name": "stdout",
     "output_type": "stream",
     "text": [
      "tensor([[0.5493, 0.7122],\n",
      "        [0.7247, 0.3393]])\n",
      "tensor([[0.0752, 0.8501],\n",
      "        [0.5593, 0.8980]])\n"
     ]
    },
    {
     "data": {
      "text/plain": [
       "tensor([[0.6245, 1.5623],\n",
       "        [1.2840, 1.2372]])"
      ]
     },
     "execution_count": 27,
     "metadata": {},
     "output_type": "execute_result"
    }
   ],
   "source": [
    "x=torch.rand(2,2)\n",
    "y=torch.rand(2,2)\n",
    "print(x)\n",
    "print(y)\n",
    "z=x+y\n",
    "z"
   ]
  },
  {
   "cell_type": "code",
   "execution_count": 18,
   "id": "6d6c6bca",
   "metadata": {},
   "outputs": [
    {
     "data": {
      "text/plain": [
       "tensor([[0.6581, 1.7113],\n",
       "        [1.7907, 1.5957]])"
      ]
     },
     "execution_count": 18,
     "metadata": {},
     "output_type": "execute_result"
    }
   ],
   "source": [
    "z_add=torch.add(x,y)\n",
    "z_add"
   ]
  },
  {
   "cell_type": "markdown",
   "id": "8747154f",
   "metadata": {},
   "source": [
    "Inplace operation contains _"
   ]
  },
  {
   "cell_type": "code",
   "execution_count": 20,
   "id": "8c214028",
   "metadata": {},
   "outputs": [
    {
     "data": {
      "text/plain": [
       "tensor([[0.8470, 2.5978],\n",
       "        [2.6836, 2.2217]])"
      ]
     },
     "execution_count": 20,
     "metadata": {},
     "output_type": "execute_result"
    }
   ],
   "source": [
    "y.add_(z)\n",
    "y"
   ]
  },
  {
   "cell_type": "code",
   "execution_count": 21,
   "id": "96b590f1",
   "metadata": {},
   "outputs": [
    {
     "data": {
      "text/plain": [
       "tensor([[-0.3778, -1.7729],\n",
       "        [-1.7858, -1.2518]])"
      ]
     },
     "execution_count": 21,
     "metadata": {},
     "output_type": "execute_result"
    }
   ],
   "source": [
    "z=x-y\n",
    "z"
   ]
  },
  {
   "cell_type": "code",
   "execution_count": 22,
   "id": "6d0d02aa",
   "metadata": {},
   "outputs": [
    {
     "data": {
      "text/plain": [
       "tensor([[-0.3778, -1.7729],\n",
       "        [-1.7858, -1.2518]])"
      ]
     },
     "execution_count": 22,
     "metadata": {},
     "output_type": "execute_result"
    }
   ],
   "source": [
    "z=torch.sub(x,y)\n",
    "z"
   ]
  },
  {
   "cell_type": "code",
   "execution_count": 23,
   "id": "0e0485e6",
   "metadata": {},
   "outputs": [
    {
     "data": {
      "text/plain": [
       "tensor([[0.3974, 2.1428],\n",
       "        [2.4092, 2.1546]])"
      ]
     },
     "execution_count": 23,
     "metadata": {},
     "output_type": "execute_result"
    }
   ],
   "source": [
    "z=torch.mul(x,y)\n",
    "z"
   ]
  },
  {
   "cell_type": "code",
   "execution_count": 29,
   "id": "f4183193",
   "metadata": {},
   "outputs": [
    {
     "data": {
      "text/plain": [
       "tensor([[7.3061, 0.8378],\n",
       "        [1.2956, 0.3779]])"
      ]
     },
     "execution_count": 29,
     "metadata": {},
     "output_type": "execute_result"
    }
   ],
   "source": [
    "z=torch.div(x,y)\n",
    "z"
   ]
  },
  {
   "cell_type": "markdown",
   "id": "a89343f0",
   "metadata": {},
   "source": [
    "Slicing Operation\n"
   ]
  },
  {
   "cell_type": "code",
   "execution_count": 30,
   "id": "c2b2a536",
   "metadata": {},
   "outputs": [
    {
     "data": {
      "text/plain": [
       "tensor([[0.4024, 0.4257, 0.9915],\n",
       "        [0.2914, 0.3028, 0.6991],\n",
       "        [0.7937, 0.6925, 0.6446],\n",
       "        [0.0115, 0.6675, 0.6452],\n",
       "        [0.8456, 0.1093, 0.8351]])"
      ]
     },
     "execution_count": 30,
     "metadata": {},
     "output_type": "execute_result"
    }
   ],
   "source": [
    "x=torch.rand(5,3)\n",
    "x"
   ]
  },
  {
   "cell_type": "code",
   "execution_count": 32,
   "id": "e53c9dfe",
   "metadata": {},
   "outputs": [
    {
     "data": {
      "text/plain": [
       "tensor([0.2914, 0.3028, 0.6991])"
      ]
     },
     "execution_count": 32,
     "metadata": {},
     "output_type": "execute_result"
    }
   ],
   "source": [
    "x[1,:]"
   ]
  },
  {
   "cell_type": "code",
   "execution_count": 33,
   "id": "0299ed8f",
   "metadata": {},
   "outputs": [
    {
     "data": {
      "text/plain": [
       "tensor(0.3028)"
      ]
     },
     "execution_count": 33,
     "metadata": {},
     "output_type": "execute_result"
    }
   ],
   "source": [
    "x[1,1]"
   ]
  },
  {
   "cell_type": "code",
   "execution_count": 34,
   "id": "71cb9183",
   "metadata": {},
   "outputs": [
    {
     "data": {
      "text/plain": [
       "tensor([0.4257, 0.3028, 0.6925, 0.6675, 0.1093])"
      ]
     },
     "execution_count": 34,
     "metadata": {},
     "output_type": "execute_result"
    }
   ],
   "source": [
    "x[:,1]"
   ]
  },
  {
   "cell_type": "markdown",
   "id": "0b12397a",
   "metadata": {},
   "source": [
    ".item(gets the actual value of tensor)"
   ]
  },
  {
   "cell_type": "code",
   "execution_count": 35,
   "id": "7c7b406c",
   "metadata": {},
   "outputs": [
    {
     "data": {
      "text/plain": [
       "0.3027995228767395"
      ]
     },
     "execution_count": 35,
     "metadata": {},
     "output_type": "execute_result"
    }
   ],
   "source": [
    "x[1,1].item()"
   ]
  },
  {
   "cell_type": "code",
   "execution_count": 36,
   "id": "30500de6",
   "metadata": {},
   "outputs": [
    {
     "name": "stdout",
     "output_type": "stream",
     "text": [
      "tensor([[0.6951, 0.4433, 0.4479, 0.6506],\n",
      "        [0.6195, 0.6312, 0.1111, 0.7321],\n",
      "        [0.8492, 0.9812, 0.7944, 0.4864],\n",
      "        [0.3099, 0.7634, 0.0736, 0.5205]])\n"
     ]
    },
    {
     "data": {
      "text/plain": [
       "tensor([0.6951, 0.4433, 0.4479, 0.6506, 0.6195, 0.6312, 0.1111, 0.7321, 0.8492,\n",
       "        0.9812, 0.7944, 0.4864, 0.3099, 0.7634, 0.0736, 0.5205])"
      ]
     },
     "execution_count": 36,
     "metadata": {},
     "output_type": "execute_result"
    }
   ],
   "source": [
    "x=torch.rand(4,4)\n",
    "print(x)\n",
    "y=x.view(16)\n",
    "y"
   ]
  },
  {
   "cell_type": "code",
   "execution_count": 37,
   "id": "60b6650f",
   "metadata": {},
   "outputs": [
    {
     "data": {
      "text/plain": [
       "tensor([[0.6951, 0.4433, 0.4479, 0.6506, 0.6195, 0.6312, 0.1111, 0.7321],\n",
       "        [0.8492, 0.9812, 0.7944, 0.4864, 0.3099, 0.7634, 0.0736, 0.5205]])"
      ]
     },
     "execution_count": 37,
     "metadata": {},
     "output_type": "execute_result"
    }
   ],
   "source": [
    "y=x.view(-1,8)\n",
    "y"
   ]
  },
  {
   "cell_type": "code",
   "execution_count": 38,
   "id": "8bd095d6",
   "metadata": {},
   "outputs": [
    {
     "data": {
      "text/plain": [
       "torch.Size([2, 8])"
      ]
     },
     "execution_count": 38,
     "metadata": {},
     "output_type": "execute_result"
    }
   ],
   "source": [
    "y.size()"
   ]
  },
  {
   "cell_type": "code",
   "execution_count": 39,
   "id": "bbd2f047",
   "metadata": {},
   "outputs": [
    {
     "data": {
      "text/plain": [
       "tensor([[0.6951, 0.4433, 0.4479, 0.6506, 0.6195, 0.6312, 0.1111, 0.7321],\n",
       "        [0.8492, 0.9812, 0.7944, 0.4864, 0.3099, 0.7634, 0.0736, 0.5205]])"
      ]
     },
     "execution_count": 39,
     "metadata": {},
     "output_type": "execute_result"
    }
   ],
   "source": [
    "y=x.view(2,8)\n",
    "y"
   ]
  },
  {
   "cell_type": "markdown",
   "id": "df7c6ddd",
   "metadata": {},
   "source": [
    "converting to numpy to tensor and vice-vers"
   ]
  },
  {
   "cell_type": "code",
   "execution_count": 40,
   "id": "4e0bf056",
   "metadata": {},
   "outputs": [],
   "source": [
    "import numpy as np"
   ]
  },
  {
   "cell_type": "code",
   "execution_count": 42,
   "id": "323bf5ea",
   "metadata": {},
   "outputs": [
    {
     "data": {
      "text/plain": [
       "tensor([1., 1., 1., 1., 1.])"
      ]
     },
     "execution_count": 42,
     "metadata": {},
     "output_type": "execute_result"
    }
   ],
   "source": [
    "a=torch.ones(5)\n",
    "a"
   ]
  },
  {
   "cell_type": "code",
   "execution_count": 43,
   "id": "1620a7ed",
   "metadata": {},
   "outputs": [
    {
     "data": {
      "text/plain": [
       "array([1., 1., 1., 1., 1.], dtype=float32)"
      ]
     },
     "execution_count": 43,
     "metadata": {},
     "output_type": "execute_result"
    }
   ],
   "source": [
    "b=a.numpy()\n",
    "b"
   ]
  },
  {
   "cell_type": "code",
   "execution_count": 44,
   "id": "d77f9c37",
   "metadata": {},
   "outputs": [
    {
     "data": {
      "text/plain": [
       "tensor([2., 2., 2., 2., 2.])"
      ]
     },
     "execution_count": 44,
     "metadata": {},
     "output_type": "execute_result"
    }
   ],
   "source": [
    "a.add_(1)\n",
    "a"
   ]
  },
  {
   "cell_type": "code",
   "execution_count": 45,
   "id": "7e9202c3",
   "metadata": {},
   "outputs": [
    {
     "data": {
      "text/plain": [
       "array([2., 2., 2., 2., 2.], dtype=float32)"
      ]
     },
     "execution_count": 45,
     "metadata": {},
     "output_type": "execute_result"
    }
   ],
   "source": [
    "b"
   ]
  },
  {
   "cell_type": "markdown",
   "id": "a6c0c00b",
   "metadata": {},
   "source": [
    "When changing the tensor to numpy, on changes tensor, it also change to numpy"
   ]
  },
  {
   "cell_type": "code",
   "execution_count": 48,
   "id": "0771ce31",
   "metadata": {},
   "outputs": [
    {
     "data": {
      "text/plain": [
       "array([1.])"
      ]
     },
     "execution_count": 48,
     "metadata": {},
     "output_type": "execute_result"
    }
   ],
   "source": [
    "a=np.ones(1)\n",
    "a"
   ]
  },
  {
   "cell_type": "code",
   "execution_count": 49,
   "id": "1c5d8c8b",
   "metadata": {},
   "outputs": [
    {
     "data": {
      "text/plain": [
       "tensor([1.], dtype=torch.float64)"
      ]
     },
     "execution_count": 49,
     "metadata": {},
     "output_type": "execute_result"
    }
   ],
   "source": [
    "b=torch.from_numpy(a)\n",
    "b"
   ]
  },
  {
   "cell_type": "code",
   "execution_count": 50,
   "id": "35ef2b81",
   "metadata": {},
   "outputs": [
    {
     "data": {
      "text/plain": [
       "array([2.])"
      ]
     },
     "execution_count": 50,
     "metadata": {},
     "output_type": "execute_result"
    }
   ],
   "source": [
    "a+=1\n",
    "a"
   ]
  },
  {
   "cell_type": "code",
   "execution_count": 51,
   "id": "5b731ebe",
   "metadata": {},
   "outputs": [
    {
     "data": {
      "text/plain": [
       "tensor([2.], dtype=torch.float64)"
      ]
     },
     "execution_count": 51,
     "metadata": {},
     "output_type": "execute_result"
    }
   ],
   "source": [
    "b"
   ]
  },
  {
   "cell_type": "code",
   "execution_count": 52,
   "id": "322b4caa",
   "metadata": {},
   "outputs": [],
   "source": [
    "if torch.cuda.is_available():\n",
    "    device=torch.device(\"cuda\")\n",
    "    x=torch.ones(5,device=device)\n",
    "    y=torch.ones(5)\n",
    "    y=y.to(device)\n",
    "    z=x*y\n",
    "    z=z.to(\"cpu\")"
   ]
  },
  {
   "cell_type": "markdown",
   "id": "92cdfb9d",
   "metadata": {},
   "source": [
    "Changing to cuda, calcuates or operates faster than cpu\n",
    "so the tensor are transferred to cuda for operation but numpy only operates or works in the cpu so if we want to change the values back to numpy we must first convert the device to cpu for it to work"
   ]
  },
  {
   "cell_type": "code",
   "execution_count": 55,
   "id": "e9ce2f72",
   "metadata": {},
   "outputs": [
    {
     "data": {
      "text/plain": [
       "tensor([1., 1., 1., 1., 1.], requires_grad=True)"
      ]
     },
     "execution_count": 55,
     "metadata": {},
     "output_type": "execute_result"
    }
   ],
   "source": [
    "x=torch.ones(5,requires_grad=True)\n",
    "x"
   ]
  },
  {
   "cell_type": "markdown",
   "id": "8bf6acef",
   "metadata": {},
   "source": [
    "This tell that later in the code, it needs to calculate the gardient of this variab"
   ]
  },
  {
   "cell_type": "code",
   "execution_count": null,
   "id": "d1ddaa28",
   "metadata": {},
   "outputs": [],
   "source": []
  }
 ],
 "metadata": {
  "kernelspec": {
   "display_name": "yolo",
   "language": "python",
   "name": "yolo"
  },
  "language_info": {
   "codemirror_mode": {
    "name": "ipython",
    "version": 3
   },
   "file_extension": ".py",
   "mimetype": "text/x-python",
   "name": "python",
   "nbconvert_exporter": "python",
   "pygments_lexer": "ipython3",
   "version": "3.11.5"
  }
 },
 "nbformat": 4,
 "nbformat_minor": 5
}
