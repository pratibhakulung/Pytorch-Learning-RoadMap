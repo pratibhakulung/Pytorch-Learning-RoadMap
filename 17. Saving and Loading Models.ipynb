{
 "cells": [
  {
   "cell_type": "code",
   "execution_count": null,
   "id": "c2798b54",
   "metadata": {},
   "outputs": [],
   "source": [
    "import torch"
   ]
  },
  {
   "cell_type": "code",
   "execution_count": null,
   "id": "b6b18123",
   "metadata": {},
   "outputs": [],
   "source": [
    "import torch.nn as nn"
   ]
  },
  {
   "cell_type": "code",
   "execution_count": 12,
   "id": "981ba92e",
   "metadata": {},
   "outputs": [],
   "source": [
    "class Model(nn.Module):\n",
    "    def __init__(self,n_input_features):\n",
    "        super(Model,self).__init__()\n",
    "        self.linear=nn.Linear(n_input_features,1)\n",
    "    def forward(self,x):\n",
    "        y_pred=torch.sigmoid(self.linear(x))\n",
    "        return y_pred"
   ]
  },
  {
   "cell_type": "code",
   "execution_count": 33,
   "id": "b9420003",
   "metadata": {},
   "outputs": [],
   "source": [
    "model=Model(n_input_features=6)"
   ]
  },
  {
   "cell_type": "raw",
   "id": "c34d701f",
   "metadata": {},
   "source": [
    "Saving checkpoints during training"
   ]
  },
  {
   "cell_type": "code",
   "execution_count": 31,
   "id": "0c5b4d45",
   "metadata": {},
   "outputs": [],
   "source": [
    "learning_rate=0.01\n",
    "optimizer=torch.optim.SGD(model.parameters(),lr=learning_rate)"
   ]
  },
  {
   "cell_type": "code",
   "execution_count": 34,
   "id": "5eef5923",
   "metadata": {},
   "outputs": [
    {
     "name": "stdout",
     "output_type": "stream",
     "text": [
      "{'state': {}, 'param_groups': [{'lr': 0.01, 'momentum': 0, 'dampening': 0, 'weight_decay': 0, 'nesterov': False, 'maximize': False, 'foreach': None, 'differentiable': False, 'params': [0, 1]}]}\n"
     ]
    }
   ],
   "source": [
    "print(optimizer.state_dict())"
   ]
  },
  {
   "cell_type": "code",
   "execution_count": 35,
   "id": "aa7a3a57",
   "metadata": {},
   "outputs": [],
   "source": [
    "checkpoint={\n",
    "    \"epoch\":90,\n",
    "    \"model_state\":model.state_dict(),\n",
    "    \"optimizer_state\":optimizer.state_dict()\n",
    "}"
   ]
  },
  {
   "cell_type": "code",
   "execution_count": 37,
   "id": "0beaee23",
   "metadata": {},
   "outputs": [],
   "source": [
    "torch.save(checkpoint,\"checkpoint.pth\")"
   ]
  },
  {
   "cell_type": "code",
   "execution_count": 39,
   "id": "33f5f551",
   "metadata": {},
   "outputs": [],
   "source": [
    "loaded_checkpoint=torch.load(\"checkpoint.pth\")\n",
    "epoch=loaded_checkpoint['epoch']\n",
    "model=Model(n_input_features=6)\n",
    "optimizer=torch.optim.SGD(model.parameters(),lr=0)\n",
    "model.load_state_dict(checkpoint[\"model_state\"])\n",
    "optimizer.load_state_dict(checkpoint['optimizer_state'])"
   ]
  },
  {
   "cell_type": "code",
   "execution_count": 40,
   "id": "1534ca09",
   "metadata": {},
   "outputs": [
    {
     "name": "stdout",
     "output_type": "stream",
     "text": [
      "{'state': {}, 'param_groups': [{'lr': 0.01, 'momentum': 0, 'dampening': 0, 'weight_decay': 0, 'nesterov': False, 'maximize': False, 'foreach': None, 'differentiable': False, 'params': [0, 1]}]}\n"
     ]
    }
   ],
   "source": [
    "print(optimizer.state_dict())"
   ]
  },
  {
   "cell_type": "code",
   "execution_count": null,
   "id": "96f19282",
   "metadata": {},
   "outputs": [],
   "source": []
  },
  {
   "cell_type": "markdown",
   "id": "2d7f6d0a",
   "metadata": {},
   "source": [
    "Model Parameters before saving"
   ]
  },
  {
   "cell_type": "code",
   "execution_count": 24,
   "id": "94d1df30",
   "metadata": {},
   "outputs": [
    {
     "name": "stdout",
     "output_type": "stream",
     "text": [
      "Parameter containing:\n",
      "tensor([[-0.3614, -0.0571, -0.2374,  0.2131,  0.1111,  0.1269]],\n",
      "       requires_grad=True)\n",
      "Parameter containing:\n",
      "tensor([-0.3424], requires_grad=True)\n"
     ]
    }
   ],
   "source": [
    "for params in model.parameters():\n",
    "    print(params)"
   ]
  },
  {
   "cell_type": "code",
   "execution_count": 25,
   "id": "14b90b06",
   "metadata": {},
   "outputs": [],
   "source": [
    "FILE=\"model.pth\"\n"
   ]
  },
  {
   "cell_type": "code",
   "execution_count": 26,
   "id": "a2ab36fc",
   "metadata": {},
   "outputs": [],
   "source": [
    "torch.save(model.state_dict(),FILE)"
   ]
  },
  {
   "cell_type": "code",
   "execution_count": 27,
   "id": "0bdd1b5e",
   "metadata": {},
   "outputs": [
    {
     "data": {
      "text/plain": [
       "Model(\n",
       "  (linear): Linear(in_features=6, out_features=1, bias=True)\n",
       ")"
      ]
     },
     "execution_count": 27,
     "metadata": {},
     "output_type": "execute_result"
    }
   ],
   "source": [
    "loaded_model=Model(n_input_features=6)\n",
    "loaded_model.load_state_dict(torch.load(FILE))\n",
    "loaded_model.eval()"
   ]
  },
  {
   "cell_type": "code",
   "execution_count": 29,
   "id": "1a67b5b5",
   "metadata": {},
   "outputs": [
    {
     "name": "stdout",
     "output_type": "stream",
     "text": [
      "Parameter containing:\n",
      "tensor([[-0.3614, -0.0571, -0.2374,  0.2131,  0.1111,  0.1269]],\n",
      "       requires_grad=True)\n",
      "Parameter containing:\n",
      "tensor([-0.3424], requires_grad=True)\n"
     ]
    }
   ],
   "source": [
    "for param in loaded_model.parameters():\n",
    "    print(param)"
   ]
  },
  {
   "cell_type": "code",
   "execution_count": 17,
   "id": "eb968b80",
   "metadata": {},
   "outputs": [],
   "source": [
    "#torch.save(model,FILE) #This uses pickle module"
   ]
  },
  {
   "cell_type": "code",
   "execution_count": 19,
   "id": "ad4dd9ee",
   "metadata": {},
   "outputs": [
    {
     "data": {
      "text/plain": [
       "Model(\n",
       "  (linear): Linear(in_features=6, out_features=1, bias=True)\n",
       ")"
      ]
     },
     "execution_count": 19,
     "metadata": {},
     "output_type": "execute_result"
    }
   ],
   "source": [
    "model=torch.load(FILE)\n",
    "model.eval()"
   ]
  },
  {
   "cell_type": "code",
   "execution_count": 20,
   "id": "b2af0732",
   "metadata": {},
   "outputs": [
    {
     "name": "stdout",
     "output_type": "stream",
     "text": [
      "Parameter containing:\n",
      "tensor([[ 0.2601,  0.3471, -0.0335, -0.0770, -0.1125, -0.0730]],\n",
      "       requires_grad=True)\n",
      "Parameter containing:\n",
      "tensor([-0.1270], requires_grad=True)\n"
     ]
    }
   ],
   "source": [
    "for params in model.parameters():\n",
    "    print(params)"
   ]
  },
  {
   "cell_type": "code",
   "execution_count": 9,
   "id": "f74767a2",
   "metadata": {},
   "outputs": [],
   "source": [
    "## STATE DICT ##"
   ]
  },
  {
   "cell_type": "code",
   "execution_count": null,
   "id": "e9bed8fd",
   "metadata": {},
   "outputs": [],
   "source": [
    "torch.save(model.state_dict(),PATH)\n",
    "model=Model(*args,**kwargs)\n",
    "model.load_state_dict(torch.load(PATH))\n",
    "model.eval()"
   ]
  },
  {
   "cell_type": "markdown",
   "id": "5bfe8a97",
   "metadata": {},
   "source": [
    "While saving the model to gpu, while loading in cpu, use\n",
    "load_state_dict(map_location=device)"
   ]
  },
  {
   "cell_type": "code",
   "execution_count": null,
   "id": "509d408f",
   "metadata": {},
   "outputs": [],
   "source": []
  }
 ],
 "metadata": {
  "kernelspec": {
   "display_name": "Python 3 (ipykernel)",
   "language": "python",
   "name": "python3"
  },
  "language_info": {
   "codemirror_mode": {
    "name": "ipython",
    "version": 3
   },
   "file_extension": ".py",
   "mimetype": "text/x-python",
   "name": "python",
   "nbconvert_exporter": "python",
   "pygments_lexer": "ipython3",
   "version": "3.11.5"
  }
 },
 "nbformat": 4,
 "nbformat_minor": 5
}
