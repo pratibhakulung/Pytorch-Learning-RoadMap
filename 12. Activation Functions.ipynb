{
 "cells": [
  {
   "cell_type": "markdown",
   "id": "4d907ea0",
   "metadata": {},
   "source": [
    "Activation functions apply a non-linear transformation to the layera and decide whether a neuron should be activated or not\n"
   ]
  },
  {
   "cell_type": "markdown",
   "id": "9b02d84c",
   "metadata": {},
   "source": [
    "- step function\n",
    "- sigmoid function\n",
    "- TanH function\n",
    "- ReLU function\n",
    "- Leaky ReLU function\n",
    "- Softmax function"
   ]
  },
  {
   "cell_type": "code",
   "execution_count": 1,
   "id": "aac9e25f",
   "metadata": {},
   "outputs": [],
   "source": [
    "import torch\n",
    "import torch.nn as nn\n",
    "import torch.nn.functional as F"
   ]
  },
  {
   "cell_type": "code",
   "execution_count": 2,
   "id": "db445bd6",
   "metadata": {},
   "outputs": [],
   "source": [
    "class NeuralNet(nn.Module):\n",
    "    def __init__(self,input_size,hidden_size):\n",
    "        super(NeuralNet,self).__init__()\n",
    "        self.linea1=nn.Linear(input_size,hidden_size)\n",
    "        self.relu=nn.ReLU()\n",
    "        self.linear2=nn.Linear(hidden_size,1)\n",
    "        self.sigmoid=nn.Sigmoid()\n",
    "    def forward(self,x):\n",
    "        out=self.linear1(x)\n",
    "        out=self.relu(out)\n",
    "        out=self.linear2(out)\n",
    "        out=self.sigmoid(out)\n",
    "        return out\n",
    "    "
   ]
  },
  {
   "cell_type": "code",
   "execution_count": null,
   "id": "dc6edc96",
   "metadata": {},
   "outputs": [],
   "source": [
    "class NeuralNet(nn.Module):\n",
    "    def __init__(self,input_size,hidden_size):\n",
    "        super(NeuralNet,self).__init__()\n",
    "        self.linea1=nn.Linear(input_size,hidden_size)\n",
    "   \n",
    "        self.linear2=nn.Linear(hidden_size,1)\n",
    "   \n",
    "    def forward(self,x):\n",
    "        out=torch.relu(self.linear1(x))\n",
    "        out=self.relu(out)\n",
    "        out=self.linear2(out)\n",
    "        out=self.sigmoid(out)\n",
    "        return out"
   ]
  }
 ],
 "metadata": {
  "kernelspec": {
   "display_name": "Python 3 (ipykernel)",
   "language": "python",
   "name": "python3"
  },
  "language_info": {
   "codemirror_mode": {
    "name": "ipython",
    "version": 3
   },
   "file_extension": ".py",
   "mimetype": "text/x-python",
   "name": "python",
   "nbconvert_exporter": "python",
   "pygments_lexer": "ipython3",
   "version": "3.11.5"
  }
 },
 "nbformat": 4,
 "nbformat_minor": 5
}
