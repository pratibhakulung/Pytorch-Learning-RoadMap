{
 "cells": [
  {
   "cell_type": "markdown",
   "id": "7aa76443",
   "metadata": {},
   "source": [
    "Generally training pipeline in Pytorch\n",
    "- Design odel (input, outputsize, forward passs)\n",
    "- Construct loss and optimizer\n",
    "- Training Loop\n",
    "forward pass: compute prediction\n",
    "backward pass: gradients\n",
    "-update weights\n"
   ]
  },
  {
   "cell_type": "code",
   "execution_count": 35,
   "id": "b77b98e9",
   "metadata": {},
   "outputs": [],
   "source": [
    "import torch\n",
    "import torch.nn as nn\n"
   ]
  },
  {
   "cell_type": "code",
   "execution_count": 36,
   "id": "3e78fec8",
   "metadata": {},
   "outputs": [],
   "source": [
    "X=torch.tensor([[1],[2],[3],[4]],dtype=torch.float32)\n",
    "Y=torch.tensor([[2],[4],[6],[8]],dtype=torch.float32)"
   ]
  },
  {
   "cell_type": "code",
   "execution_count": 37,
   "id": "ae222bb6",
   "metadata": {},
   "outputs": [
    {
     "data": {
      "text/plain": [
       "(4, 1)"
      ]
     },
     "execution_count": 37,
     "metadata": {},
     "output_type": "execute_result"
    }
   ],
   "source": [
    "n_samples,n_features=X.shape\n",
    "n_samples,n_features"
   ]
  },
  {
   "cell_type": "code",
   "execution_count": 38,
   "id": "cb41561a",
   "metadata": {},
   "outputs": [],
   "source": [
    "# def forward(x):\n",
    "#     return w*x"
   ]
  },
  {
   "cell_type": "code",
   "execution_count": 39,
   "id": "6cb0c496",
   "metadata": {},
   "outputs": [],
   "source": [
    "X_test=torch.tensor([5],dtype=torch.float32)"
   ]
  },
  {
   "cell_type": "markdown",
   "id": "154dd6c7",
   "metadata": {},
   "source": [
    "Replacing Manually Model to torch model\n",
    "-requires input size and output size"
   ]
  },
  {
   "cell_type": "code",
   "execution_count": 40,
   "id": "8cb7f194",
   "metadata": {},
   "outputs": [],
   "source": [
    "input_size=n_features\n",
    "output_size=n_features"
   ]
  },
  {
   "cell_type": "code",
   "execution_count": 41,
   "id": "cd99048d",
   "metadata": {},
   "outputs": [],
   "source": [
    "model=nn.Linear(input_size,output_size)"
   ]
  },
  {
   "cell_type": "code",
   "execution_count": 53,
   "id": "239a442a",
   "metadata": {},
   "outputs": [],
   "source": [
    "class LinearRegression(nn.Module):\n",
    "    def __init__(self,input_dim,outp_dim):\n",
    "        super(LinearRegression,self).init()\n",
    "        self.lin=nn.Linear(input_dim,output_dim)\n",
    "    def forward(self,x):\n",
    "        return self.lin(x)"
   ]
  },
  {
   "cell_type": "code",
   "execution_count": null,
   "id": "7c5cbfd3",
   "metadata": {},
   "outputs": [],
   "source": [
    "model=LinearRegression(input_size,output_size)"
   ]
  },
  {
   "cell_type": "code",
   "execution_count": 42,
   "id": "13aa2e24",
   "metadata": {},
   "outputs": [
    {
     "name": "stdout",
     "output_type": "stream",
     "text": [
      "Prediction before training f(5)=5.408\n"
     ]
    }
   ],
   "source": [
    "print(f'Prediction before training f(5)={model(X_test).item():.3f}')"
   ]
  },
  {
   "cell_type": "code",
   "execution_count": 43,
   "id": "ceabccf1",
   "metadata": {},
   "outputs": [],
   "source": [
    "learning_rate=0.01\n",
    "n_iters=100\n",
    "# w=torch.tensor(0,dtype=torch.float32,requires_grad=True)"
   ]
  },
  {
   "cell_type": "code",
   "execution_count": 44,
   "id": "81d636bb",
   "metadata": {},
   "outputs": [],
   "source": [
    "loss=nn.MSELoss()"
   ]
  },
  {
   "cell_type": "code",
   "execution_count": 45,
   "id": "279444c4",
   "metadata": {},
   "outputs": [],
   "source": [
    "optimizer=torch.optim.SGD(model.parameters(),lr=learning_rate)"
   ]
  },
  {
   "cell_type": "code",
   "execution_count": 50,
   "id": "a6f143a2",
   "metadata": {},
   "outputs": [
    {
     "name": "stdout",
     "output_type": "stream",
     "text": [
      "Epoch 0: w=1.714, loss=0.119\n",
      "Epoch 2: w=1.716, loss=0.117\n",
      "Epoch 4: w=1.718, loss=0.116\n",
      "Epoch 6: w=1.719, loss=0.114\n",
      "Epoch 8: w=1.721, loss=0.113\n",
      "Epoch 10: w=1.723, loss=0.112\n",
      "Epoch 12: w=1.724, loss=0.110\n",
      "Epoch 14: w=1.726, loss=0.109\n",
      "Epoch 16: w=1.728, loss=0.108\n",
      "Epoch 18: w=1.729, loss=0.106\n",
      "Epoch 20: w=1.731, loss=0.105\n",
      "Epoch 22: w=1.732, loss=0.104\n",
      "Epoch 24: w=1.734, loss=0.103\n",
      "Epoch 26: w=1.736, loss=0.101\n",
      "Epoch 28: w=1.737, loss=0.100\n",
      "Epoch 30: w=1.739, loss=0.099\n",
      "Epoch 32: w=1.740, loss=0.098\n",
      "Epoch 34: w=1.742, loss=0.097\n",
      "Epoch 36: w=1.743, loss=0.096\n",
      "Epoch 38: w=1.745, loss=0.094\n",
      "Epoch 40: w=1.747, loss=0.093\n",
      "Epoch 42: w=1.748, loss=0.092\n",
      "Epoch 44: w=1.750, loss=0.091\n",
      "Epoch 46: w=1.751, loss=0.090\n",
      "Epoch 48: w=1.753, loss=0.089\n",
      "Epoch 50: w=1.754, loss=0.088\n",
      "Epoch 52: w=1.755, loss=0.087\n",
      "Epoch 54: w=1.757, loss=0.086\n",
      "Epoch 56: w=1.758, loss=0.085\n",
      "Epoch 58: w=1.760, loss=0.084\n",
      "Epoch 60: w=1.761, loss=0.083\n",
      "Epoch 62: w=1.763, loss=0.082\n",
      "Epoch 64: w=1.764, loss=0.081\n",
      "Epoch 66: w=1.766, loss=0.080\n",
      "Epoch 68: w=1.767, loss=0.079\n",
      "Epoch 70: w=1.768, loss=0.078\n",
      "Epoch 72: w=1.770, loss=0.077\n",
      "Epoch 74: w=1.771, loss=0.076\n",
      "Epoch 76: w=1.772, loss=0.075\n",
      "Epoch 78: w=1.774, loss=0.074\n",
      "Epoch 80: w=1.775, loss=0.073\n",
      "Epoch 82: w=1.777, loss=0.073\n",
      "Epoch 84: w=1.778, loss=0.072\n",
      "Epoch 86: w=1.779, loss=0.071\n",
      "Epoch 88: w=1.781, loss=0.070\n",
      "Epoch 90: w=1.782, loss=0.069\n",
      "Epoch 92: w=1.783, loss=0.068\n",
      "Epoch 94: w=1.784, loss=0.068\n",
      "Epoch 96: w=1.786, loss=0.067\n",
      "Epoch 98: w=1.787, loss=0.066\n"
     ]
    }
   ],
   "source": [
    "for epoch in range(n_iters):\n",
    "    #predictions\n",
    "    y_pred=model(X)\n",
    "    #loss\n",
    "    \n",
    "    l=loss(Y,y_pred)\n",
    "    #gradient\n",
    "    l.backward()\n",
    "    #update weights\n",
    "    optimizer.step()\n",
    "    #empty gradients\n",
    "    optimizer.zero_grad()\n",
    "    if epoch %2==0:\n",
    "        [w,b]=model.parameters()\n",
    "        print(f'Epoch {epoch}: w={w[0][0].item():.3f}, loss={l:.3f}')\n",
    "    "
   ]
  },
  {
   "cell_type": "code",
   "execution_count": 51,
   "id": "111672e2",
   "metadata": {},
   "outputs": [
    {
     "name": "stdout",
     "output_type": "stream",
     "text": [
      "Prediction After training f(5)=9.563\n"
     ]
    }
   ],
   "source": [
    "print(f'Prediction After training f(5)={model(X_test).item():.3f}')"
   ]
  },
  {
   "cell_type": "code",
   "execution_count": null,
   "id": "323d2eaf",
   "metadata": {},
   "outputs": [],
   "source": []
  }
 ],
 "metadata": {
  "kernelspec": {
   "display_name": "yolo",
   "language": "python",
   "name": "yolo"
  },
  "language_info": {
   "codemirror_mode": {
    "name": "ipython",
    "version": 3
   },
   "file_extension": ".py",
   "mimetype": "text/x-python",
   "name": "python",
   "nbconvert_exporter": "python",
   "pygments_lexer": "ipython3",
   "version": "3.11.5"
  }
 },
 "nbformat": 4,
 "nbformat_minor": 5
}
