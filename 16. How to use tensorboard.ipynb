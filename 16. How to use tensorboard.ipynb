{
 "cells": [
  {
   "cell_type": "code",
   "execution_count": 66,
   "id": "fdecc147",
   "metadata": {
    "scrolled": true
   },
   "outputs": [
    {
     "ename": "SystemExit",
     "evalue": "",
     "output_type": "error",
     "traceback": [
      "An exception has occurred, use %tb to see the full traceback.\n",
      "\u001b[1;31mSystemExit\u001b[0m\n"
     ]
    }
   ],
   "source": [
    "import torch\n",
    "import torch.nn as nn\n",
    "import torchvision\n",
    "import torchvision.transforms as transforms\n",
    "import matplotlib.pyplot as plt\n",
    "import sys\n",
    "from torch.utils.tensorboard import SummaryWriter\n",
    "\n",
    "#Device Config\n",
    "\n",
    "device=torch.device('cuda' if torch.cuda.is_available() else 'cpu')\n",
    "\n",
    "\n",
    "#hyperparameters\n",
    "input_size=784 #28*28\n",
    "hidden_size=100\n",
    "num_classes=10\n",
    "batch_size=100\n",
    "learning_rate=0.01\n",
    "num_epochs=1\n",
    "\n",
    "writer=SummaryWriter(\"runs/mnist\")\n",
    "#Dataset\n",
    "train_dataset=torchvision.datasets.MNIST(root='./data',download=True,transform=transforms.ToTensor(),train=True)\n",
    "test_dataset=torchvision.datasets.MNIST(root='./data',transform=transforms.ToTensor())\n",
    "train_loader=torch.utils.data.DataLoader(dataset=train_dataset,shuffle=True,batch_size=batch_size)\n",
    "test_loader=torch.utils.data.DataLoader(dataset=test_dataset,batch_size=batch_size,shuffle=False)\n",
    "\n",
    "examples=iter(test_loader)\n",
    "example_data,example_target=next(examples)\n",
    "img_grid=torchvision.utils.make_grid(example_data)\n",
    "writer.add_image('mnist_images',img_grid)\n",
    "writer.close()\n",
    "sys.exit()\n",
    "#Model \n",
    "\n",
    "class NeuralNet(nn.Module):\n",
    "    def __init__(self,input_size,hidden_size,num_classes):\n",
    "        super(NeuralNet,self).__init__()\n",
    "        self.input_size = input_size\n",
    "        self.l1=nn.Linear(input_size,hidden_size)\n",
    "        self.reul=nn.ReLU()\n",
    "        self.l2=nn.Linear(hidden_size,num_classes)\n",
    "    def forward(self,x):\n",
    "        out=self.l1(x)\n",
    "        out=self.reul(out)\n",
    "        out=self.l2(out)\n",
    "        return out\n",
    "\n",
    "\n",
    "model=NeuralNet(input_size,hidden_size,num_classes).to(device)\n",
    "\n",
    "#loss and optimizer\n",
    "\n",
    "criterion=nn.CrossEntropyLoss()\n",
    "optimizer=torch.optim.Adam(model.parameters(),lr=learning_rate)\n",
    "n_total_steps=len(train_loader)\n",
    "writer.add_graph(model,example_data.reshape(-1,28*28))\n",
    "writer.close()\n",
    "\n",
    "#model training\n",
    "running_loss=0.0\n",
    "running_correct=0\n",
    "for epoch in range(num_epochs):\n",
    "    for i, (images,labels) in enumerate(train_loader):\n",
    "        #100,1,20,20 reshape we need 100, 784\n",
    "        images=images.reshape(-1,28*28).to(device)\n",
    "        labels=labels.to(device)\n",
    "        #forward\n",
    "        \n",
    "        outputs=model(images)\n",
    "        _,predictions=torch.max(outputs,1)\n",
    "        loss=criterion(outputs,labels)\n",
    "        #backward\n",
    "        optimizer.zero_grad()\n",
    "        loss.backward\n",
    "        optimizer.step()\n",
    "        running_loss=loss.item()\n",
    "        running_correct+=(predictions==labels).sum().item()\n",
    "        \n",
    "        if (i +1) %100 ==0:\n",
    "            writer.add_scalar('training_loss',running_loss/100,epoch=n_total_steps+1)\n",
    "            writer.add_scalar('accuracy',running_correct/100,epoch=n_total_steps+1)\n",
    "            running_loss=0\n",
    "            running_correct=0\n",
    "            print(f'epoch {epoch +1}/{num_epochs},step {i+1}/{n_total_steps},loss={loss.item():.4f}')\n",
    "#model evaluation\n",
    "with torch.no_grad():\n",
    "    n_correct=0\n",
    "    n_samples=0\n",
    "    for images,labels in test_loader:\n",
    "        images=images.reshape(-1,28*28).to(device)\n",
    "        labels=labels.to(device)\n",
    "        outputs=model(images)\n",
    "        #value,index\n",
    "        _,predictions=torch.max(outputs,1)\n",
    "        n_samples+=labels.shape[0]\n",
    "        n_correct+=(predictions==labels).sum().item()\n",
    "\n",
    "acc=100.0*n_correct/n_samples\n",
    "print('Accuracy:',acc)"
   ]
  },
  {
   "cell_type": "code",
   "execution_count": 67,
   "id": "0101c916",
   "metadata": {},
   "outputs": [
    {
     "name": "stdout",
     "output_type": "stream",
     "text": [
      "The tensorboard extension is already loaded. To reload it, use:\n",
      "  %reload_ext tensorboard\n"
     ]
    }
   ],
   "source": [
    "%load_ext tensorboard\n"
   ]
  },
  {
   "cell_type": "code",
   "execution_count": 68,
   "id": "46df7d0d",
   "metadata": {},
   "outputs": [
    {
     "data": {
      "text/plain": [
       "Reusing TensorBoard on port 6007 (pid 2868), started 0:23:26 ago. (Use '!kill 2868' to kill it.)"
      ]
     },
     "metadata": {},
     "output_type": "display_data"
    },
    {
     "data": {
      "text/html": [
       "\n",
       "      <iframe id=\"tensorboard-frame-2f2e80d2ec67883b\" width=\"100%\" height=\"800\" frameborder=\"0\">\n",
       "      </iframe>\n",
       "      <script>\n",
       "        (function() {\n",
       "          const frame = document.getElementById(\"tensorboard-frame-2f2e80d2ec67883b\");\n",
       "          const url = new URL(\"/\", window.location);\n",
       "          const port = 6007;\n",
       "          if (port) {\n",
       "            url.port = port;\n",
       "          }\n",
       "          frame.src = url;\n",
       "        })();\n",
       "      </script>\n",
       "    "
      ],
      "text/plain": [
       "<IPython.core.display.HTML object>"
      ]
     },
     "metadata": {},
     "output_type": "display_data"
    }
   ],
   "source": [
    "%tensorboard --logdir='runs'"
   ]
  },
  {
   "cell_type": "code",
   "execution_count": null,
   "id": "6e01ed64",
   "metadata": {},
   "outputs": [],
   "source": []
  }
 ],
 "metadata": {
  "kernelspec": {
   "display_name": "Python 3 (ipykernel)",
   "language": "python",
   "name": "python3"
  },
  "language_info": {
   "codemirror_mode": {
    "name": "ipython",
    "version": 3
   },
   "file_extension": ".py",
   "mimetype": "text/x-python",
   "name": "python",
   "nbconvert_exporter": "python",
   "pygments_lexer": "ipython3",
   "version": "3.11.5"
  }
 },
 "nbformat": 4,
 "nbformat_minor": 5
}
