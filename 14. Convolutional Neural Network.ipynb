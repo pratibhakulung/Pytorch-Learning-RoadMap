{
 "cells": [
  {
   "cell_type": "code",
   "execution_count": 85,
   "id": "6cebd101",
   "metadata": {},
   "outputs": [],
   "source": [
    "import torch\n",
    "import torch.nn as nn\n",
    "import torch.nn.functional as F\n",
    "import torchvision\n",
    "import torchvision.transforms as transforms\n",
    "import matplotlib.pyplot as plt\n",
    "import numpy as np"
   ]
  },
  {
   "cell_type": "code",
   "execution_count": 86,
   "id": "c4cc3720",
   "metadata": {},
   "outputs": [
    {
     "name": "stdout",
     "output_type": "stream",
     "text": [
      "Files already downloaded and verified\n",
      "Files already downloaded and verified\n"
     ]
    }
   ],
   "source": [
    "device=torch.device('cuda' if torch.cuda.is_available() else 'cpu')\n",
    "\n",
    "num_epochs=2\n",
    "batch_size=4\n",
    "learning_rate=0.001\n",
    "\n",
    "transform=transforms.Compose(\n",
    "[transforms.ToTensor(),\n",
    "transforms.Normalize((0.5,0.5,0.5),(0.5,0.5,0.5))])\n",
    "\n",
    "train_dataset=torchvision.datasets.CIFAR10(root='./data',train=True,download=True,transform=transform)\n",
    "test_dataset=torchvision.datasets.CIFAR10(root='./data',download=True,train=False,transform=transform)\n",
    "train_loader=torch.utils.data.DataLoader(train_dataset,batch_size=batch_size,shuffle=True)\n",
    "test_loader=torch.utils.data.DataLoader(test_dataset,batch_size=batch_size,shuffle=False)"
   ]
  },
  {
   "cell_type": "code",
   "execution_count": 87,
   "id": "dcb1aa13",
   "metadata": {},
   "outputs": [],
   "source": [
    "classes=('plane','car','bird','cat','deer','dog','frog','horse','ship','truck')"
   ]
  },
  {
   "cell_type": "code",
   "execution_count": 88,
   "id": "2e4b90d9",
   "metadata": {},
   "outputs": [
    {
     "name": "stdout",
     "output_type": "stream",
     "text": [
      "Epoch [1]/2, Step [2000/12500], Loss:2.2858\n",
      "Epoch [1]/2, Step [4000/12500], Loss:2.2895\n",
      "Epoch [1]/2, Step [6000/12500], Loss:2.3037\n",
      "Epoch [1]/2, Step [8000/12500], Loss:2.3294\n",
      "Epoch [1]/2, Step [10000/12500], Loss:2.2293\n",
      "Epoch [1]/2, Step [12000/12500], Loss:2.2786\n",
      "Epoch [2]/2, Step [2000/12500], Loss:3.0462\n",
      "Epoch [2]/2, Step [4000/12500], Loss:2.2033\n",
      "Epoch [2]/2, Step [6000/12500], Loss:1.8316\n",
      "Epoch [2]/2, Step [8000/12500], Loss:2.5044\n",
      "Epoch [2]/2, Step [10000/12500], Loss:1.7626\n",
      "Epoch [2]/2, Step [12000/12500], Loss:2.1413\n"
     ]
    }
   ],
   "source": [
    "class ConvNet(nn.Module):\n",
    "    def __init__(self):\n",
    "        super(ConvNet, self).__init__()\n",
    "        self.conv1=nn.Conv2d(3,6,5)\n",
    "        self.pool=nn.MaxPool2d(2,2)\n",
    "        self.conv2=nn.Conv2d(6,16,5)\n",
    "        self.fc1=nn.Linear(16*5*5,120)\n",
    "        self.fc2=nn.Linear(120,84)\n",
    "        self.fc3=nn.Linear(84,10)\n",
    "    def forward(self,x):\n",
    "        x=self.pool(F.relu(self.conv1(x)))\n",
    "        x=self.pool(F.relu(self.conv2(x)))\n",
    "        x=x.view(-1,16*5*5)\n",
    "        x=F.relu(self.fc1(x))\n",
    "        x=F.relu(self.fc2(x))\n",
    "        x=self.fc3(x)\n",
    "        return x\n",
    "        \n",
    "model=ConvNet().to(device)\n",
    "criterion=nn.CrossEntropyLoss()\n",
    "optimizer=torch.optim.SGD(model.parameters(),lr=learning_rate)\n",
    "\n",
    "n_steps=len(train_loader)\n",
    "\n",
    "for epoch in range(num_epochs):\n",
    "    for i, (images,labels) in enumerate(train_loader):\n",
    "        #change input shape\n",
    "        images=images.to(device)\n",
    "        labels=labels.to(device)\n",
    "        \n",
    "        #forwards\n",
    "        outputs=model(images)\n",
    "        loss=criterion(outputs,labels)\n",
    "        \n",
    "        #backward\n",
    "        optimizer.zero_grad()\n",
    "        loss.backward()\n",
    "        optimizer.step()\n",
    "        if (i+1)%2000==0:\n",
    "            print(f'Epoch [{epoch+1}]/{num_epochs}, Step [{i+1}/{n_steps}], Loss:{loss.item():.4f}')"
   ]
  },
  {
   "cell_type": "code",
   "execution_count": 90,
   "id": "6040a56c",
   "metadata": {},
   "outputs": [],
   "source": [
    "with torch.no_grad():\n",
    "    n_correct=0\n",
    "    n_samples=0\n",
    "    n_class_correct=[0 for i in range(10)]\n",
    "    n_class_samples=[0 for i in range (10)]\n",
    "    \n",
    "    for images,labels in test_loader:\n",
    "        images=images.to(device)\n",
    "        labels=labels.to(device)\n",
    "        \n",
    "        _,predicted=torch.max(outputs,1)\n",
    "        n_samples+=labels.size(0)\n",
    "        n_correct+=(predicted==labels).sum().item()\n",
    "        for i in range(batch_size):\n",
    "            label=labels[i]\n",
    "            pred=predicted[i]\n",
    "            if (label==pred):\n",
    "                n_class_correct[label]+=1\n",
    "            n_class_samples[label]+=1"
   ]
  },
  {
   "cell_type": "code",
   "execution_count": 92,
   "id": "5b7788ae",
   "metadata": {},
   "outputs": [
    {
     "data": {
      "text/plain": [
       "10.05"
      ]
     },
     "execution_count": 92,
     "metadata": {},
     "output_type": "execute_result"
    }
   ],
   "source": [
    "acc=100.0*n_correct/n_samples\n",
    "acc"
   ]
  },
  {
   "cell_type": "code",
   "execution_count": 93,
   "id": "c76270cf",
   "metadata": {},
   "outputs": [
    {
     "name": "stdout",
     "output_type": "stream",
     "text": [
      "Accuracy of plane: 26.7 %\n",
      "Accuracy of car: 0.0 %\n",
      "Accuracy of bird: 0.0 %\n",
      "Accuracy of cat: 0.0 %\n",
      "Accuracy of deer: 0.0 %\n",
      "Accuracy of dog: 0.0 %\n",
      "Accuracy of frog: 0.0 %\n",
      "Accuracy of horse: 73.8 %\n",
      "Accuracy of ship: 0.0 %\n",
      "Accuracy of truck: 0.0 %\n"
     ]
    }
   ],
   "source": [
    "for i in range(10):\n",
    "        acc = 100.0 * n_class_correct[i] / n_class_samples[i]\n",
    "        print(f'Accuracy of {classes[i]}: {acc} %')\n"
   ]
  },
  {
   "cell_type": "code",
   "execution_count": null,
   "id": "11e8c933",
   "metadata": {},
   "outputs": [],
   "source": []
  }
 ],
 "metadata": {
  "kernelspec": {
   "display_name": "Python 3 (ipykernel)",
   "language": "python",
   "name": "python3"
  },
  "language_info": {
   "codemirror_mode": {
    "name": "ipython",
    "version": 3
   },
   "file_extension": ".py",
   "mimetype": "text/x-python",
   "name": "python",
   "nbconvert_exporter": "python",
   "pygments_lexer": "ipython3",
   "version": "3.11.5"
  }
 },
 "nbformat": 4,
 "nbformat_minor": 5
}
