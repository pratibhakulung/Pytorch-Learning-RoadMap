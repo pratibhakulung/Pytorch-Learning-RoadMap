{
 "cells": [
  {
   "cell_type": "markdown",
   "id": "0dd66155",
   "metadata": {},
   "source": [
    "MNIST\n",
    "<br>DataLoader, Transformation\n",
    "<br>Multilyaer Neural Net, activation function\n",
    "<br>Loss and Optimizer\n",
    "<br>Training Loop (batch training)\n",
    "<br>Model evaluation\n",
    "<br>GPU support"
   ]
  },
  {
   "cell_type": "code",
   "execution_count": 43,
   "id": "28275960",
   "metadata": {},
   "outputs": [],
   "source": [
    "import torch\n",
    "import torch.nn as nn\n",
    "import torchvision\n",
    "import torchvision.transforms as transforms\n",
    "import matplotlib.pyplot as plt"
   ]
  },
  {
   "cell_type": "markdown",
   "id": "82a7c3ed",
   "metadata": {},
   "source": [
    "Device config"
   ]
  },
  {
   "cell_type": "code",
   "execution_count": 44,
   "id": "1049afe2",
   "metadata": {},
   "outputs": [],
   "source": [
    "device=torch.device('cuda' if torch.cuda.is_available() else 'cpu')"
   ]
  },
  {
   "cell_type": "code",
   "execution_count": 45,
   "id": "8814fc0c",
   "metadata": {},
   "outputs": [
    {
     "data": {
      "text/plain": [
       "device(type='cpu')"
      ]
     },
     "execution_count": 45,
     "metadata": {},
     "output_type": "execute_result"
    }
   ],
   "source": [
    "device"
   ]
  },
  {
   "cell_type": "markdown",
   "id": "6855d8bd",
   "metadata": {},
   "source": [
    "Hyperparameters"
   ]
  },
  {
   "cell_type": "code",
   "execution_count": 57,
   "id": "586020bc",
   "metadata": {},
   "outputs": [],
   "source": [
    "input_size=784 # 28*28\n",
    "hidden_size=100\n",
    "num_classes=10\n",
    "num_epochs=2\n",
    "batch_size=100\n",
    "learning_rate=0.01"
   ]
  },
  {
   "cell_type": "markdown",
   "id": "235798be",
   "metadata": {},
   "source": [
    "MNIST\n"
   ]
  },
  {
   "cell_type": "code",
   "execution_count": 23,
   "id": "954c9068",
   "metadata": {
    "scrolled": true
   },
   "outputs": [],
   "source": [
    "training_dataset=torchvision.datasets.MNIST(root='./data',train=True,transform=transforms.ToTensor(),download=True)"
   ]
  },
  {
   "cell_type": "code",
   "execution_count": 24,
   "id": "10bd193b",
   "metadata": {},
   "outputs": [],
   "source": [
    "testing_dataset=torchvision.datasets.MNIST(root='./data',train=False,transform=transforms.ToTensor())"
   ]
  },
  {
   "cell_type": "code",
   "execution_count": 69,
   "id": "5aaf640f",
   "metadata": {},
   "outputs": [],
   "source": [
    "train_loader=torch.utils.data.DataLoader(dataset=train_dataset,batch_size=batch_size,shuffle=True)"
   ]
  },
  {
   "cell_type": "code",
   "execution_count": 70,
   "id": "02d3457f",
   "metadata": {},
   "outputs": [],
   "source": [
    "test_loader=torch.utils.data.DataLoader(dataset=test_dataset,batch_size=batch_size,shuffle=False)"
   ]
  },
  {
   "cell_type": "code",
   "execution_count": 71,
   "id": "6b1ed707",
   "metadata": {},
   "outputs": [
    {
     "name": "stdout",
     "output_type": "stream",
     "text": [
      "torch.Size([100, 1, 28, 28]) torch.Size([100])\n"
     ]
    }
   ],
   "source": [
    "examples=iter(train_loader)\n",
    "samples,ls=next(examples)\n",
    "print(samples.shape,ls.shape)"
   ]
  },
  {
   "cell_type": "code",
   "execution_count": null,
   "id": "0f4379eb",
   "metadata": {},
   "outputs": [],
   "source": [
    "for i in range(6):\n",
    "    plt.subplot(2,3,i+1)\n",
    "    plt.imshow(samples[i][0],cmap='gray')\n",
    "    plt.show()"
   ]
  },
  {
   "cell_type": "code",
   "execution_count": 78,
   "id": "e34fe86e",
   "metadata": {},
   "outputs": [],
   "source": [
    "class NeuralNet(nn.Module):\n",
    "    def __init__(self,input_size,hidden_size,num_classes):\n",
    "        super(NeuralNet,self).__init__()\n",
    "        self.input_size = input_size\n",
    "        self.l1=nn.Linear(input_size,hidden_size)\n",
    "        self.reul=nn.ReLU()\n",
    "        self.l2=nn.Linear(hidden_size,num_classes)\n",
    "    def forward(self,x):\n",
    "        out=self.l1(x)\n",
    "        out=self.reul(out)\n",
    "        out=self.l2(out)\n",
    "        return out\n"
   ]
  },
  {
   "cell_type": "code",
   "execution_count": 79,
   "id": "4cf4e250",
   "metadata": {},
   "outputs": [],
   "source": [
    "model=NeuralNet(input_size,hidden_size,num_classes).to(device)"
   ]
  },
  {
   "cell_type": "markdown",
   "id": "6b213a4f",
   "metadata": {},
   "source": [
    "Loss and optimizer"
   ]
  },
  {
   "cell_type": "code",
   "execution_count": 80,
   "id": "013d1129",
   "metadata": {},
   "outputs": [],
   "source": [
    "criterion=nn.CrossEntropyLoss()"
   ]
  },
  {
   "cell_type": "code",
   "execution_count": 81,
   "id": "b56dfb5d",
   "metadata": {},
   "outputs": [],
   "source": [
    "optimizer=torch.optim.Adam(model.parameters(),lr=learning_rate)"
   ]
  },
  {
   "cell_type": "markdown",
   "id": "cf28e807",
   "metadata": {},
   "source": [
    "Training Loop"
   ]
  },
  {
   "cell_type": "code",
   "execution_count": 82,
   "id": "d4a88aba",
   "metadata": {},
   "outputs": [],
   "source": [
    "n_total_steps=len(train_loader)"
   ]
  },
  {
   "cell_type": "code",
   "execution_count": 85,
   "id": "53fb10bb",
   "metadata": {},
   "outputs": [
    {
     "name": "stdout",
     "output_type": "stream",
     "text": [
      "epoch 1/2,step 100/600,loss=0.0841\n",
      "epoch 1/2,step 200/600,loss=0.0501\n",
      "epoch 1/2,step 300/600,loss=0.1429\n",
      "epoch 1/2,step 400/600,loss=0.0791\n",
      "epoch 1/2,step 500/600,loss=0.2015\n",
      "epoch 1/2,step 600/600,loss=0.0475\n",
      "epoch 2/2,step 100/600,loss=0.1227\n",
      "epoch 2/2,step 200/600,loss=0.1144\n",
      "epoch 2/2,step 300/600,loss=0.1172\n",
      "epoch 2/2,step 400/600,loss=0.0853\n",
      "epoch 2/2,step 500/600,loss=0.0185\n",
      "epoch 2/2,step 600/600,loss=0.0583\n"
     ]
    }
   ],
   "source": [
    "for epoch in range(num_epochs):\n",
    "    for i, (images,labels) in enumerate(train_loader):\n",
    "        #100,1,20,20 reshape we need 100, 784\n",
    "        images=images.reshape(-1,28*28).to(device)\n",
    "        labels=labels.to(device)\n",
    "        #forward\n",
    "        outputs=model(images)\n",
    "        loss=criterion(outputs,labels)\n",
    "        #backward\n",
    "        optimizer.zero_grad()\n",
    "        loss.backward\n",
    "        optimizer.step()\n",
    "        if (i +1) %100 ==0:\n",
    "            print(f'epoch {epoch +1}/{num_epochs},step {i+1}/{n_total_steps},loss={loss.item():.4f}')"
   ]
  },
  {
   "cell_type": "code",
   "execution_count": 86,
   "id": "ff924812",
   "metadata": {},
   "outputs": [],
   "source": [
    "with torch.no_grad():\n",
    "    n_correct=0\n",
    "    n_samples=0\n",
    "    for images,labels in test_loader:\n",
    "        images=images.reshape(-1,28*28).to(device)\n",
    "        labels=labels.to(device)\n",
    "        outputs=model(images)\n",
    "        \n",
    "        #value,index\n",
    "        _,predictions=torch.max(outputs,1)\n",
    "        n_samples+=labels.shape[0]\n",
    "        n_correct+=(predictions==labels).sum().item()\n",
    "acc=100.0*n_correct/n_samples"
   ]
  },
  {
   "cell_type": "code",
   "execution_count": 87,
   "id": "a2b78d3e",
   "metadata": {},
   "outputs": [
    {
     "data": {
      "text/plain": [
       "96.53"
      ]
     },
     "execution_count": 87,
     "metadata": {},
     "output_type": "execute_result"
    }
   ],
   "source": [
    "acc"
   ]
  },
  {
   "cell_type": "code",
   "execution_count": null,
   "id": "1a087bf2",
   "metadata": {},
   "outputs": [],
   "source": []
  }
 ],
 "metadata": {
  "kernelspec": {
   "display_name": "Python 3 (ipykernel)",
   "language": "python",
   "name": "python3"
  },
  "language_info": {
   "codemirror_mode": {
    "name": "ipython",
    "version": 3
   },
   "file_extension": ".py",
   "mimetype": "text/x-python",
   "name": "python",
   "nbconvert_exporter": "python",
   "pygments_lexer": "ipython3",
   "version": "3.11.5"
  }
 },
 "nbformat": 4,
 "nbformat_minor": 5
}
