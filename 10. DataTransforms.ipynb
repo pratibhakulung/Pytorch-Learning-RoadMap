{
 "cells": [
  {
   "cell_type": "code",
   "execution_count": 5,
   "id": "4859f871",
   "metadata": {},
   "outputs": [],
   "source": [
    "import torch \n",
    "import torchvision\n",
    "from torch.utils.data import Dataset, DataLoader\n",
    "import numpy as np\n",
    "import math"
   ]
  },
  {
   "cell_type": "code",
   "execution_count": 21,
   "id": "aae1044b",
   "metadata": {},
   "outputs": [],
   "source": [
    "class WineDataset(Dataset):\n",
    "    def __init__(self,transform):\n",
    "        #data loading\n",
    "        xy=np.loadtxt('Dataset/wine.csv',delimiter=\",\",dtype=np.float32,skiprows=1)\n",
    "        self.x=xy[:,1:]\n",
    "        self.y=xy[:,[0]] \n",
    "        self.transform=transform\n",
    "        #n_samples,1\n",
    "        self.n_samples=xy.shape[0]\n",
    "    def __getitem__(self,index):\n",
    "        #allow indexing later, dataset[0]\n",
    "        sample=self.x[index],self.y[index]\n",
    "        if self.transform:\n",
    "            sample=self.transform(sample)\n",
    "        return sample\n",
    "    \n",
    "    def __len__(self):\n",
    "        #this will allow len of \n",
    "        return self.n_samples"
   ]
  },
  {
   "cell_type": "code",
   "execution_count": 22,
   "id": "6448d357",
   "metadata": {},
   "outputs": [],
   "source": [
    "class ToTensor:\n",
    "    def __call__(self,sample):\n",
    "        inputs,labels=sample\n",
    "        return torch.from_numpy(inputs),torch.from_numpy(labels)"
   ]
  },
  {
   "cell_type": "code",
   "execution_count": 26,
   "id": "88564cde",
   "metadata": {},
   "outputs": [],
   "source": [
    "class MulTransform:\n",
    "    def __init__(self,factor):\n",
    "        self.factor=factor\n",
    "    def __call__(self,sample):\n",
    "        input,target=sample\n",
    "        inputs*=self.factor\n",
    "        return inputs,target"
   ]
  },
  {
   "cell_type": "code",
   "execution_count": 27,
   "id": "5a71960c",
   "metadata": {},
   "outputs": [],
   "source": [
    "data=WineDataset(transform=ToTensor())"
   ]
  },
  {
   "cell_type": "code",
   "execution_count": 28,
   "id": "e71574e9",
   "metadata": {},
   "outputs": [
    {
     "name": "stdout",
     "output_type": "stream",
     "text": [
      "tensor([1.4230e+01, 1.7100e+00, 2.4300e+00, 1.5600e+01, 1.2700e+02, 2.8000e+00,\n",
      "        3.0600e+00, 2.8000e-01, 2.2900e+00, 5.6400e+00, 1.0400e+00, 3.9200e+00,\n",
      "        1.0650e+03]) tensor([1.])\n"
     ]
    }
   ],
   "source": [
    "first_data=data[0]\n",
    "features,labels=first_data\n",
    "print(features,labels)"
   ]
  },
  {
   "cell_type": "code",
   "execution_count": null,
   "id": "2aeb4120",
   "metadata": {},
   "outputs": [],
   "source": []
  },
  {
   "cell_type": "code",
   "execution_count": 30,
   "id": "bdc04ef3",
   "metadata": {},
   "outputs": [],
   "source": [
    "composed=torchvision.transforms.Compose([ToTensor(),MulTransform(2)])"
   ]
  },
  {
   "cell_type": "code",
   "execution_count": 31,
   "id": "193f227e",
   "metadata": {},
   "outputs": [],
   "source": [
    "dataset=WineDataset(transform=composed)"
   ]
  },
  {
   "cell_type": "code",
   "execution_count": 32,
   "id": "29612efd",
   "metadata": {},
   "outputs": [
    {
     "ename": "UnboundLocalError",
     "evalue": "cannot access local variable 'inputs' where it is not associated with a value",
     "output_type": "error",
     "traceback": [
      "\u001b[1;31m---------------------------------------------------------------------------\u001b[0m",
      "\u001b[1;31mUnboundLocalError\u001b[0m                         Traceback (most recent call last)",
      "Cell \u001b[1;32mIn[32], line 1\u001b[0m\n\u001b[1;32m----> 1\u001b[0m features,lables\u001b[38;5;241m=\u001b[39mdataset[\u001b[38;5;241m0\u001b[39m]\n\u001b[0;32m      2\u001b[0m \u001b[38;5;28mprint\u001b[39m(features,labels)\n",
      "Cell \u001b[1;32mIn[21], line 14\u001b[0m, in \u001b[0;36mWineDataset.__getitem__\u001b[1;34m(self, index)\u001b[0m\n\u001b[0;32m     12\u001b[0m sample\u001b[38;5;241m=\u001b[39m\u001b[38;5;28mself\u001b[39m\u001b[38;5;241m.\u001b[39mx[index],\u001b[38;5;28mself\u001b[39m\u001b[38;5;241m.\u001b[39my[index]\n\u001b[0;32m     13\u001b[0m \u001b[38;5;28;01mif\u001b[39;00m \u001b[38;5;28mself\u001b[39m\u001b[38;5;241m.\u001b[39mtransform:\n\u001b[1;32m---> 14\u001b[0m     sample\u001b[38;5;241m=\u001b[39m\u001b[38;5;28mself\u001b[39m\u001b[38;5;241m.\u001b[39mtransform(sample)\n\u001b[0;32m     15\u001b[0m \u001b[38;5;28;01mreturn\u001b[39;00m sample\n",
      "File \u001b[1;32m~\\anaconda3\\Lib\\site-packages\\torchvision\\transforms\\transforms.py:95\u001b[0m, in \u001b[0;36mCompose.__call__\u001b[1;34m(self, img)\u001b[0m\n\u001b[0;32m     93\u001b[0m \u001b[38;5;28;01mdef\u001b[39;00m \u001b[38;5;21m__call__\u001b[39m(\u001b[38;5;28mself\u001b[39m, img):\n\u001b[0;32m     94\u001b[0m     \u001b[38;5;28;01mfor\u001b[39;00m t \u001b[38;5;129;01min\u001b[39;00m \u001b[38;5;28mself\u001b[39m\u001b[38;5;241m.\u001b[39mtransforms:\n\u001b[1;32m---> 95\u001b[0m         img \u001b[38;5;241m=\u001b[39m t(img)\n\u001b[0;32m     96\u001b[0m     \u001b[38;5;28;01mreturn\u001b[39;00m img\n",
      "Cell \u001b[1;32mIn[26], line 6\u001b[0m, in \u001b[0;36mMulTransform.__call__\u001b[1;34m(self, sample)\u001b[0m\n\u001b[0;32m      4\u001b[0m \u001b[38;5;28;01mdef\u001b[39;00m \u001b[38;5;21m__call__\u001b[39m(\u001b[38;5;28mself\u001b[39m,sample):\n\u001b[0;32m      5\u001b[0m     \u001b[38;5;28minput\u001b[39m,target\u001b[38;5;241m=\u001b[39msample\n\u001b[1;32m----> 6\u001b[0m     inputs\u001b[38;5;241m*\u001b[39m\u001b[38;5;241m=\u001b[39m\u001b[38;5;28mself\u001b[39m\u001b[38;5;241m.\u001b[39mfactor\n\u001b[0;32m      7\u001b[0m     \u001b[38;5;28;01mreturn\u001b[39;00m inputs,target\n",
      "\u001b[1;31mUnboundLocalError\u001b[0m: cannot access local variable 'inputs' where it is not associated with a value"
     ]
    }
   ],
   "source": [
    "features,lables=dataset[0]\n",
    "print(features,labels)"
   ]
  },
  {
   "cell_type": "code",
   "execution_count": null,
   "id": "72b00ee8",
   "metadata": {},
   "outputs": [],
   "source": []
  }
 ],
 "metadata": {
  "kernelspec": {
   "display_name": "Python 3 (ipykernel)",
   "language": "python",
   "name": "python3"
  },
  "language_info": {
   "codemirror_mode": {
    "name": "ipython",
    "version": 3
   },
   "file_extension": ".py",
   "mimetype": "text/x-python",
   "name": "python",
   "nbconvert_exporter": "python",
   "pygments_lexer": "ipython3",
   "version": "3.11.5"
  }
 },
 "nbformat": 4,
 "nbformat_minor": 5
}
