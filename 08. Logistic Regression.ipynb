{
 "cells": [
  {
   "cell_type": "markdown",
   "id": "ef45d847",
   "metadata": {},
   "source": [
    "Design model, input, output size, forward pass\n",
    "<br> Construct loss and optimizer\n",
    "<br> Training loop\n",
    "- forward pass: comput prediction and loss\n",
    "- backward pass: gradients\n",
    "- update weights"
   ]
  },
  {
   "cell_type": "code",
   "execution_count": 3,
   "id": "01b85e4d",
   "metadata": {},
   "outputs": [],
   "source": [
    "import torch\n",
    "import torch.nn as nn\n",
    "import numpy as np\n",
    "import matplotlib.pyplot as plt\n",
    "from sklearn import datasets\n",
    "from sklearn.preprocessing import StandardScaler\n",
    "from sklearn.model_selection import train_test_split"
   ]
  },
  {
   "cell_type": "markdown",
   "id": "ee03ba60",
   "metadata": {},
   "source": [
    "step -1: prepare datasets"
   ]
  },
  {
   "cell_type": "code",
   "execution_count": 4,
   "id": "de27e09f",
   "metadata": {},
   "outputs": [],
   "source": [
    "bc=datasets.load_breast_cancer()"
   ]
  },
  {
   "cell_type": "code",
   "execution_count": 5,
   "id": "b1ab08a4",
   "metadata": {},
   "outputs": [],
   "source": [
    "X,y=bc.data,bc.target"
   ]
  },
  {
   "cell_type": "code",
   "execution_count": 7,
   "id": "4f3c6127",
   "metadata": {},
   "outputs": [
    {
     "data": {
      "text/plain": [
       "569"
      ]
     },
     "execution_count": 7,
     "metadata": {},
     "output_type": "execute_result"
    }
   ],
   "source": [
    "n_samples,n_features=X.shape\n",
    "n_samples"
   ]
  },
  {
   "cell_type": "code",
   "execution_count": 8,
   "id": "f50e32d8",
   "metadata": {},
   "outputs": [
    {
     "data": {
      "text/plain": [
       "30"
      ]
     },
     "execution_count": 8,
     "metadata": {},
     "output_type": "execute_result"
    }
   ],
   "source": [
    "n_features"
   ]
  },
  {
   "cell_type": "code",
   "execution_count": 9,
   "id": "74ae4e75",
   "metadata": {},
   "outputs": [],
   "source": [
    "X_train,X_test,y_train,y_test=train_test_split(X,y,test_size=0.2,random_state=21)"
   ]
  },
  {
   "cell_type": "markdown",
   "id": "901937c3",
   "metadata": {},
   "source": [
    "Scale the features"
   ]
  },
  {
   "cell_type": "code",
   "execution_count": 10,
   "id": "45e47028",
   "metadata": {},
   "outputs": [],
   "source": [
    "sc=StandardScaler()"
   ]
  },
  {
   "cell_type": "code",
   "execution_count": 11,
   "id": "d86dfca3",
   "metadata": {},
   "outputs": [],
   "source": [
    "X_train=sc.fit_transform(X_train)\n",
    "X_test=sc.transform(X_test)\n",
    "X_train=torch.from_numpy(X_train.astype(np.float32))\n",
    "X_test=torch.from_numpy(X_test.astype(np.float32))\n",
    "y_train=torch.from_numpy(y_train.astype(np.float32))\n",
    "y_test=torch.from_numpy(y_test.astype(np.float32))\n"
   ]
  },
  {
   "cell_type": "markdown",
   "id": "0473a167",
   "metadata": {},
   "source": [
    "changing row to column vector. we only have row right now"
   ]
  },
  {
   "cell_type": "code",
   "execution_count": 13,
   "id": "5f0a6d8c",
   "metadata": {},
   "outputs": [],
   "source": [
    "y_train=y_train.view(y_train.shape[0],1)\n",
    "y_test=y_test.view(y_test.shape[0],1)"
   ]
  },
  {
   "cell_type": "markdown",
   "id": "62a920c5",
   "metadata": {},
   "source": [
    "Model"
   ]
  },
  {
   "cell_type": "code",
   "execution_count": 16,
   "id": "498722f0",
   "metadata": {},
   "outputs": [],
   "source": [
    "class LogisticRegression(nn.Module):\n",
    "    def __init__(self,n_input_features):\n",
    "        super(LogisticRegression,self).__init__()\n",
    "        self.linear=nn.Linear(n_input_features,1)\n",
    "    def forward(self,x):\n",
    "        y_predicted=torch.sigmoid(self.linear(x))\n",
    "        return y_predicted"
   ]
  },
  {
   "cell_type": "code",
   "execution_count": 17,
   "id": "6a900eea",
   "metadata": {},
   "outputs": [],
   "source": [
    "model = LogisticRegression(n_features)"
   ]
  },
  {
   "cell_type": "code",
   "execution_count": 18,
   "id": "83e3e9fe",
   "metadata": {},
   "outputs": [],
   "source": [
    "learning_rate=0.01"
   ]
  },
  {
   "cell_type": "code",
   "execution_count": 24,
   "id": "9affbd11",
   "metadata": {},
   "outputs": [],
   "source": [
    "criterion=nn.BCELoss()\n",
    "optimizer=torch.optim.SGD(model.parameters(),lr=learning_rate)"
   ]
  },
  {
   "cell_type": "code",
   "execution_count": 25,
   "id": "719c2209",
   "metadata": {},
   "outputs": [],
   "source": [
    "n_epochs=100"
   ]
  },
  {
   "cell_type": "code",
   "execution_count": 27,
   "id": "af55f989",
   "metadata": {},
   "outputs": [
    {
     "name": "stdout",
     "output_type": "stream",
     "text": [
      "10, loss =0.5216\n",
      "20, loss =0.4450\n",
      "30, loss =0.3937\n",
      "40, loss =0.3566\n",
      "50, loss =0.3285\n",
      "60, loss =0.3062\n",
      "70, loss =0.2882\n",
      "80, loss =0.2732\n",
      "90, loss =0.2604\n",
      "100, loss =0.2495\n"
     ]
    }
   ],
   "source": [
    "for epoch in range(n_epochs):\n",
    "    #forward pass\n",
    "    y_predicted=model(X_train)\n",
    "    #loss calculation\n",
    "    loss=criterion(y_predicted,y_train)\n",
    "    #backward pass\n",
    "    loss.backward()\n",
    "    #update\n",
    "    optimizer.step()\n",
    "    #zero gardients\n",
    "    optimizer.zero_grad()\n",
    "    \n",
    "    if (epoch +1) %10==0:\n",
    "        print(f'{epoch +1 }, loss ={loss.item():.4f}')"
   ]
  },
  {
   "cell_type": "markdown",
   "id": "9ca300e5",
   "metadata": {},
   "source": [
    "We are done here, we don't need gardients so no_grad"
   ]
  },
  {
   "cell_type": "code",
   "execution_count": 29,
   "id": "180c98d4",
   "metadata": {},
   "outputs": [
    {
     "name": "stdout",
     "output_type": "stream",
     "text": [
      "accuracy=0.9386\n"
     ]
    }
   ],
   "source": [
    "with torch.no_grad():\n",
    "    y_predicted=model(X_test)\n",
    "    y_predicted_cls=y_predicted.round()\n",
    "    acc=y_predicted_cls.eq(y_test).sum()/float(y_test.shape[0])\n",
    "    print(f'accuracy={acc:.4f}')\n",
    "    "
   ]
  },
  {
   "cell_type": "code",
   "execution_count": null,
   "id": "e4795938",
   "metadata": {},
   "outputs": [],
   "source": []
  }
 ],
 "metadata": {
  "kernelspec": {
   "display_name": "Python 3 (ipykernel)",
   "language": "python",
   "name": "python3"
  },
  "language_info": {
   "codemirror_mode": {
    "name": "ipython",
    "version": 3
   },
   "file_extension": ".py",
   "mimetype": "text/x-python",
   "name": "python",
   "nbconvert_exporter": "python",
   "pygments_lexer": "ipython3",
   "version": "3.11.5"
  }
 },
 "nbformat": 4,
 "nbformat_minor": 5
}
