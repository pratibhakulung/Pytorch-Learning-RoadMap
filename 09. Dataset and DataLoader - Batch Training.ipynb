{
 "cells": [
  {
   "cell_type": "markdown",
   "id": "b1014061",
   "metadata": {},
   "source": [
    "Take long time to calculate the gradients of whole datasets, so divide them into chunks\n",
    "<br>Pytorch can do batch iteration and calculation. It has its builtin dataloader function\n",
    "<br> - epoch=1 forward and backward pass of ALL trainng samples\n",
    "<br> - batch_size=number of trainng samples in one forwrd and backward pass\n",
    "<br> - number of iterations= number of passes, each pass using batch size number of samples\n",
    "<br> - eg. 100 samples, batch_size=20 --> 100/20 = 5 iteration for 1 epoch"
   ]
  },
  {
   "cell_type": "code",
   "execution_count": 21,
   "id": "eee83fbc",
   "metadata": {},
   "outputs": [],
   "source": [
    "import torch \n",
    "import torchvision\n",
    "from torch.utils.data import Dataset, DataLoader\n",
    "import numpy as np\n",
    "import math"
   ]
  },
  {
   "cell_type": "code",
   "execution_count": 22,
   "id": "2954de9a",
   "metadata": {},
   "outputs": [],
   "source": [
    "class WineDataset(Dataset):\n",
    "    def __init__(self):\n",
    "        #data loading\n",
    "        xy=np.loadtxt('Dataset/wine.csv',delimiter=\",\",dtype=np.float32,skiprows=1)\n",
    "        self.x=xy[:,1:]\n",
    "        self.y=xy[:,[0]] \n",
    "        #n_samples,1\n",
    "        self.n_samples=xy.shape[0]\n",
    "    def __getitem__(self,index):\n",
    "        #allow indexing later, dataset[0]\n",
    "        return self.x[index],self.y[index]\n",
    "    def __len__(self):\n",
    "        #this will allow len of \n",
    "        return self.n_samples"
   ]
  },
  {
   "cell_type": "code",
   "execution_count": 23,
   "id": "155893d9",
   "metadata": {},
   "outputs": [],
   "source": [
    "dataset=WineDataset()"
   ]
  },
  {
   "cell_type": "code",
   "execution_count": 24,
   "id": "942afb80",
   "metadata": {},
   "outputs": [
    {
     "data": {
      "text/plain": [
       "array([1.423e+01, 1.710e+00, 2.430e+00, 1.560e+01, 1.270e+02, 2.800e+00,\n",
       "       3.060e+00, 2.800e-01, 2.290e+00, 5.640e+00, 1.040e+00, 3.920e+00,\n",
       "       1.065e+03], dtype=float32)"
      ]
     },
     "execution_count": 24,
     "metadata": {},
     "output_type": "execute_result"
    }
   ],
   "source": [
    "first_dataset=dataset[0]\n",
    "features,labels=first_dataset\n",
    "features"
   ]
  },
  {
   "cell_type": "code",
   "execution_count": 25,
   "id": "2001aba0",
   "metadata": {},
   "outputs": [
    {
     "data": {
      "text/plain": [
       "array([1.], dtype=float32)"
      ]
     },
     "execution_count": 25,
     "metadata": {},
     "output_type": "execute_result"
    }
   ],
   "source": [
    "labels"
   ]
  },
  {
   "cell_type": "code",
   "execution_count": 28,
   "id": "f427fff7",
   "metadata": {},
   "outputs": [],
   "source": [
    "dataloader=DataLoader(dataset=dataset,batch_size=4,shuffle=True)"
   ]
  },
  {
   "cell_type": "code",
   "execution_count": 29,
   "id": "bfa1f2b0",
   "metadata": {},
   "outputs": [
    {
     "data": {
      "text/plain": [
       "tensor([[1.3680e+01, 1.8300e+00, 2.3600e+00, 1.7200e+01, 1.0400e+02, 2.4200e+00,\n",
       "         2.6900e+00, 4.2000e-01, 1.9700e+00, 3.8400e+00, 1.2300e+00, 2.8700e+00,\n",
       "         9.9000e+02],\n",
       "        [1.2770e+01, 2.3900e+00, 2.2800e+00, 1.9500e+01, 8.6000e+01, 1.3900e+00,\n",
       "         5.1000e-01, 4.8000e-01, 6.4000e-01, 9.9000e+00, 5.7000e-01, 1.6300e+00,\n",
       "         4.7000e+02],\n",
       "        [1.2370e+01, 1.2100e+00, 2.5600e+00, 1.8100e+01, 9.8000e+01, 2.4200e+00,\n",
       "         2.6500e+00, 3.7000e-01, 2.0800e+00, 4.6000e+00, 1.1900e+00, 2.3000e+00,\n",
       "         6.7800e+02],\n",
       "        [1.3690e+01, 3.2600e+00, 2.5400e+00, 2.0000e+01, 1.0700e+02, 1.8300e+00,\n",
       "         5.6000e-01, 5.0000e-01, 8.0000e-01, 5.8800e+00, 9.6000e-01, 1.8200e+00,\n",
       "         6.8000e+02]])"
      ]
     },
     "execution_count": 29,
     "metadata": {},
     "output_type": "execute_result"
    }
   ],
   "source": [
    "dataiter=iter(dataloader)\n",
    "data=next(dataiter)\n",
    "features,labels=data\n",
    "features"
   ]
  },
  {
   "cell_type": "code",
   "execution_count": 30,
   "id": "59c48f5b",
   "metadata": {},
   "outputs": [
    {
     "data": {
      "text/plain": [
       "tensor([[1.],\n",
       "        [3.],\n",
       "        [2.],\n",
       "        [3.]])"
      ]
     },
     "execution_count": 30,
     "metadata": {},
     "output_type": "execute_result"
    }
   ],
   "source": [
    "labels"
   ]
  },
  {
   "cell_type": "markdown",
   "id": "93c090a0",
   "metadata": {},
   "source": [
    "Training Loop"
   ]
  },
  {
   "cell_type": "code",
   "execution_count": 36,
   "id": "8fc72b59",
   "metadata": {},
   "outputs": [],
   "source": [
    "num_epochs=2"
   ]
  },
  {
   "cell_type": "code",
   "execution_count": 38,
   "id": "bc12d52d",
   "metadata": {},
   "outputs": [
    {
     "data": {
      "text/plain": [
       "178"
      ]
     },
     "execution_count": 38,
     "metadata": {},
     "output_type": "execute_result"
    }
   ],
   "source": [
    "total_samples=len(dataset)\n",
    "total_samples"
   ]
  },
  {
   "cell_type": "code",
   "execution_count": 45,
   "id": "75e7cd5d",
   "metadata": {},
   "outputs": [
    {
     "data": {
      "text/plain": [
       "45"
      ]
     },
     "execution_count": 45,
     "metadata": {},
     "output_type": "execute_result"
    }
   ],
   "source": [
    "n_iterations=math.ceil(total_samples/4)\n",
    "n_iterations"
   ]
  },
  {
   "cell_type": "code",
   "execution_count": 47,
   "id": "31761486",
   "metadata": {},
   "outputs": [
    {
     "name": "stdout",
     "output_type": "stream",
     "text": [
      "epoch 1/2,step 5/45 , inputs torch.Size([4, 13])\n",
      "epoch 1/2,step 10/45 , inputs torch.Size([4, 13])\n",
      "epoch 1/2,step 15/45 , inputs torch.Size([4, 13])\n",
      "epoch 1/2,step 20/45 , inputs torch.Size([4, 13])\n",
      "epoch 1/2,step 25/45 , inputs torch.Size([4, 13])\n",
      "epoch 1/2,step 30/45 , inputs torch.Size([4, 13])\n",
      "epoch 1/2,step 35/45 , inputs torch.Size([4, 13])\n",
      "epoch 1/2,step 40/45 , inputs torch.Size([4, 13])\n",
      "epoch 1/2,step 45/45 , inputs torch.Size([2, 13])\n",
      "epoch 2/2,step 5/45 , inputs torch.Size([4, 13])\n",
      "epoch 2/2,step 10/45 , inputs torch.Size([4, 13])\n",
      "epoch 2/2,step 15/45 , inputs torch.Size([4, 13])\n",
      "epoch 2/2,step 20/45 , inputs torch.Size([4, 13])\n",
      "epoch 2/2,step 25/45 , inputs torch.Size([4, 13])\n",
      "epoch 2/2,step 30/45 , inputs torch.Size([4, 13])\n",
      "epoch 2/2,step 35/45 , inputs torch.Size([4, 13])\n",
      "epoch 2/2,step 40/45 , inputs torch.Size([4, 13])\n",
      "epoch 2/2,step 45/45 , inputs torch.Size([2, 13])\n"
     ]
    }
   ],
   "source": [
    "for epoch in range(num_epochs):\n",
    "    for i,(inputs,labels) in enumerate(dataloader):\n",
    "        #forward  backward and pass\n",
    "        if (i+1)%5==0:\n",
    "            print(f'epoch { epoch +1 }/{num_epochs},step { i +1 }/{n_iterations} , inputs {inputs.shape}')"
   ]
  },
  {
   "cell_type": "code",
   "execution_count": null,
   "id": "13325633",
   "metadata": {},
   "outputs": [],
   "source": []
  }
 ],
 "metadata": {
  "kernelspec": {
   "display_name": "Python 3 (ipykernel)",
   "language": "python",
   "name": "python3"
  },
  "language_info": {
   "codemirror_mode": {
    "name": "ipython",
    "version": 3
   },
   "file_extension": ".py",
   "mimetype": "text/x-python",
   "name": "python",
   "nbconvert_exporter": "python",
   "pygments_lexer": "ipython3",
   "version": "3.11.5"
  }
 },
 "nbformat": 4,
 "nbformat_minor": 5
}
