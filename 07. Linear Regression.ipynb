{
 "cells": [
  {
   "cell_type": "markdown",
   "id": "feaf60d8",
   "metadata": {},
   "source": [
    "Design model (input, output size, forward pass)\n",
    "<br> Construct loss and optimizer\n",
    "<br>Training loop\n",
    "- forward pass: compute prediction and loss\n",
    "- backward pass: gradients\n",
    "- update weights\n"
   ]
  },
  {
   "cell_type": "code",
   "execution_count": 30,
   "id": "0d844bd5",
   "metadata": {},
   "outputs": [],
   "source": [
    "import torch\n",
    "import torch.nn as nn\n",
    "import numpy as np\n",
    "from sklearn import datasets\n",
    "import matplotlib.pyplot as plt"
   ]
  },
  {
   "cell_type": "markdown",
   "id": "42cd92b9",
   "metadata": {},
   "source": [
    "Step 0: Prepare the data"
   ]
  },
  {
   "cell_type": "code",
   "execution_count": 31,
   "id": "c1d8188b",
   "metadata": {
    "scrolled": false
   },
   "outputs": [],
   "source": [
    "X_numpy,y_numpy=datasets.make_regression(n_samples=100,n_features=1,noise=20,random_state=1)\n",
    "X=torch.from_numpy(X_numpy.astype(np.float32))\n",
    "y=torch.from_numpy(y_numpy.astype(np.float32))\n",
    "y=y.view(y.shape[0],1)"
   ]
  },
  {
   "cell_type": "code",
   "execution_count": 32,
   "id": "386cfdaf",
   "metadata": {},
   "outputs": [
    {
     "data": {
      "text/plain": [
       "torch.Size([100, 1])"
      ]
     },
     "execution_count": 32,
     "metadata": {},
     "output_type": "execute_result"
    }
   ],
   "source": [
    "y.shape"
   ]
  },
  {
   "cell_type": "code",
   "execution_count": 33,
   "id": "8c1cb66a",
   "metadata": {},
   "outputs": [
    {
     "data": {
      "text/plain": [
       "torch.Size([100, 1])"
      ]
     },
     "execution_count": 33,
     "metadata": {},
     "output_type": "execute_result"
    }
   ],
   "source": [
    "X.shape"
   ]
  },
  {
   "cell_type": "code",
   "execution_count": 34,
   "id": "d830e84a",
   "metadata": {},
   "outputs": [],
   "source": [
    "n_samples,n_features=X.shape"
   ]
  },
  {
   "cell_type": "code",
   "execution_count": 35,
   "id": "040d3c8d",
   "metadata": {},
   "outputs": [],
   "source": [
    "input_size=n_features\n",
    "output_size=1"
   ]
  },
  {
   "cell_type": "code",
   "execution_count": 36,
   "id": "fa9ca00b",
   "metadata": {},
   "outputs": [],
   "source": [
    "model=nn.Linear(input_size,output_size)"
   ]
  },
  {
   "cell_type": "code",
   "execution_count": 37,
   "id": "b929300c",
   "metadata": {},
   "outputs": [],
   "source": [
    "learning_rate=0.01"
   ]
  },
  {
   "cell_type": "code",
   "execution_count": 38,
   "id": "4288c2c9",
   "metadata": {},
   "outputs": [],
   "source": [
    "criterion=nn.MSELoss()\n",
    "optimizer=torch.optim.SGD(model.parameters(),lr=learning_rate)"
   ]
  },
  {
   "cell_type": "code",
   "execution_count": 39,
   "id": "225e1b6d",
   "metadata": {},
   "outputs": [],
   "source": [
    "num_epochs=100"
   ]
  },
  {
   "cell_type": "code",
   "execution_count": 40,
   "id": "f3b7a230",
   "metadata": {},
   "outputs": [
    {
     "name": "stdout",
     "output_type": "stream",
     "text": [
      "10, loss=4416.0737\n",
      "20, loss=3295.9502\n",
      "30, loss=2484.8982\n",
      "40, loss=1897.0400\n",
      "50, loss=1470.5554\n",
      "60, loss=1160.8777\n",
      "70, loss=935.8351\n",
      "80, loss=772.1774\n",
      "90, loss=653.0795\n",
      "100, loss=566.3552\n"
     ]
    }
   ],
   "source": [
    "for epoch in range(num_epochs):\n",
    "    #forward pass\n",
    "    y_predicted=model(X)\n",
    "    #loss\n",
    "    loss=criterion(y_predicted,y)\n",
    "    #backward pass\n",
    "    loss.backward()\n",
    "    #update\n",
    "    optimizer.step()\n",
    "    optimizer.zero_grad()\n",
    "    \n",
    "    if (epoch+1) %10==0:\n",
    "        print(f'{epoch +1 }, loss={loss.item():.4f}')"
   ]
  },
  {
   "cell_type": "code",
   "execution_count": 42,
   "id": "ffaa28f8",
   "metadata": {
    "scrolled": true
   },
   "outputs": [
    {
     "data": {
      "image/png": "[encoded data removed]",
      "text/plain": [
       "<Figure size 640x480 with 1 Axes>"
      ]
     },
     "metadata": {},
     "output_type": "display_data"
    }
   ],
   "source": [
    "predicted=model(X).detach()\n",
    "plt.plot(X_numpy,y,'ro')\n",
    "plt.plot(X_numpy,predicted,'b')\n",
    "plt.show()"
   ]
  },
  {
   "cell_type": "code",
   "execution_count": null,
   "id": "bbf04bbe",
   "metadata": {},
   "outputs": [],
   "source": []
  }
 ],
 "metadata": {
  "kernelspec": {
   "display_name": "Python 3 (ipykernel)",
   "language": "python",
   "name": "python3"
  },
  "language_info": {
   "codemirror_mode": {
    "name": "ipython",
    "version": 3
   },
   "file_extension": ".py",
   "mimetype": "text/x-python",
   "name": "python",
   "nbconvert_exporter": "python",
   "pygments_lexer": "ipython3",
   "version": "3.11.5"
  }
 },
 "nbformat": 4,
 "nbformat_minor": 5
}
