{
 "cells": [
  {
   "cell_type": "code",
   "execution_count": 1,
   "id": "264263f6",
   "metadata": {},
   "outputs": [],
   "source": [
    "import numpy as np"
   ]
  },
  {
   "cell_type": "code",
   "execution_count": 18,
   "id": "06212464",
   "metadata": {},
   "outputs": [],
   "source": [
    "#f=w*x\n",
    "#f=2*x\n",
    "\n",
    "X=np.array([1,2,3,4],dtype=np.float32)\n",
    "y=np.array([2,4,6,8],dtype=np.float32)"
   ]
  },
  {
   "cell_type": "code",
   "execution_count": 19,
   "id": "a6214b7a",
   "metadata": {},
   "outputs": [],
   "source": [
    "w=0.0"
   ]
  },
  {
   "cell_type": "code",
   "execution_count": 20,
   "id": "993246d0",
   "metadata": {},
   "outputs": [],
   "source": [
    "#Calculate model prediction\n",
    "\n",
    "def forward(x):\n",
    "    return w*x"
   ]
  },
  {
   "cell_type": "code",
   "execution_count": 21,
   "id": "988f9714",
   "metadata": {},
   "outputs": [],
   "source": [
    "#loss=MSE\n",
    "def loss(y,y_predicted):\n",
    "    return ((y_predicted-y)**2).mean()\n",
    "    "
   ]
  },
  {
   "cell_type": "code",
   "execution_count": 22,
   "id": "83bc55db",
   "metadata": {},
   "outputs": [],
   "source": [
    "#gradient\n",
    "#MSE=1/N*(wx-y)**2\n",
    "#dl/dw=1/N*2*(wx-y)*x\n",
    "\n",
    "def gradient(x,y,y_predicted):\n",
    "    return np.dot(2*x,(y_predicted-y)).mean()"
   ]
  },
  {
   "cell_type": "code",
   "execution_count": 23,
   "id": "c61300c5",
   "metadata": {},
   "outputs": [
    {
     "name": "stdout",
     "output_type": "stream",
     "text": [
      "Prediction before training: f(5)=0.000\n"
     ]
    }
   ],
   "source": [
    "print(f'Prediction before training: f(5)={forward(5):.3f}')"
   ]
  },
  {
   "cell_type": "code",
   "execution_count": 24,
   "id": "2039be8d",
   "metadata": {},
   "outputs": [],
   "source": [
    "learning_rate=0.01\n",
    "n_iters=10\n"
   ]
  },
  {
   "cell_type": "code",
   "execution_count": 27,
   "id": "644bcbac",
   "metadata": {},
   "outputs": [
    {
     "name": "stdout",
     "output_type": "stream",
     "text": [
      "epoch 1: w =1.872 loss=0.768\n",
      "epoch 2: w =1.949 loss=0.123\n",
      "epoch 3: w =1.980 loss=0.020\n",
      "epoch 4: w =1.992 loss=0.003\n",
      "epoch 5: w =1.997 loss=0.001\n",
      "epoch 6: w =1.999 loss=0.000\n",
      "epoch 7: w =1.999 loss=0.000\n",
      "epoch 8: w =2.000 loss=0.000\n",
      "epoch 9: w =2.000 loss=0.000\n",
      "epoch 10: w =2.000 loss=0.000\n"
     ]
    }
   ],
   "source": [
    "for epoch in range(n_iters):\n",
    "    #prediction\n",
    "    y_predicted=forward(X)\n",
    "    #loss\n",
    "    l=loss(y,y_predicted)\n",
    "    #gradient\n",
    "    dw=gradient(X,y,y_predicted)\n",
    "    #update weights\n",
    "    w-=learning_rate*dw\n",
    "    if epoch%1==0:\n",
    "        print(f'epoch { epoch+1}: w ={w:.3f} loss={l:.3f}')\n",
    "    "
   ]
  },
  {
   "cell_type": "code",
   "execution_count": 28,
   "id": "4847631d",
   "metadata": {},
   "outputs": [
    {
     "name": "stdout",
     "output_type": "stream",
     "text": [
      "Prediction after training : f(5): 10.000\n"
     ]
    }
   ],
   "source": [
    "print(f'Prediction after training : f(5): {forward(5):.3f}')"
   ]
  },
  {
   "cell_type": "markdown",
   "id": "8ab950bb",
   "metadata": {},
   "source": [
    "With Pytorch"
   ]
  },
  {
   "cell_type": "code",
   "execution_count": 29,
   "id": "fa3d9d09",
   "metadata": {},
   "outputs": [],
   "source": [
    "import torch"
   ]
  },
  {
   "cell_type": "code",
   "execution_count": 30,
   "id": "b8aa018f",
   "metadata": {},
   "outputs": [],
   "source": [
    "X=torch.tensor([1,2,3,4],dtype=torch.float32)\n",
    "Y=torch.tensor([2,4,6,8],dtype=torch.float32)\n",
    "w=torch.tensor(0.0,dtype=torch.float32,requires_grad=True)"
   ]
  },
  {
   "cell_type": "code",
   "execution_count": 35,
   "id": "facb8581",
   "metadata": {},
   "outputs": [
    {
     "name": "stdout",
     "output_type": "stream",
     "text": [
      "epoch 1: w =1.987 loss=0.002\n",
      "epoch 3: w =1.991 loss=0.001\n",
      "epoch 5: w =1.993 loss=0.000\n",
      "epoch 7: w =1.995 loss=0.000\n",
      "epoch 9: w =1.996 loss=0.000\n",
      "epoch 11: w =1.997 loss=0.000\n",
      "epoch 13: w =1.998 loss=0.000\n",
      "epoch 15: w =1.999 loss=0.000\n",
      "epoch 17: w =1.999 loss=0.000\n",
      "epoch 19: w =1.999 loss=0.000\n",
      "epoch 21: w =1.999 loss=0.000\n",
      "epoch 23: w =2.000 loss=0.000\n",
      "epoch 25: w =2.000 loss=0.000\n",
      "epoch 27: w =2.000 loss=0.000\n",
      "epoch 29: w =2.000 loss=0.000\n"
     ]
    }
   ],
   "source": [
    "for epoch in range(30):\n",
    "    #prediction\n",
    "    y_pred=forward(X)\n",
    "    #loss\n",
    "    l=loss(Y,y_pred)\n",
    "    #gradient\n",
    "    l.backward()\n",
    "    #acculumate in w_grad attribute\n",
    "    with torch.no_grad():\n",
    "        w-=learning_rate*w.grad\n",
    "    w.grad.zero_()\n",
    "    if epoch%2==0:\n",
    "        print(f'epoch { epoch+1}: w ={w:.3f} loss={l:.3f}')\n",
    "    "
   ]
  },
  {
   "cell_type": "code",
   "execution_count": 36,
   "id": "995b0040",
   "metadata": {},
   "outputs": [
    {
     "name": "stdout",
     "output_type": "stream",
     "text": [
      "Prediction after training : f(5): 9.999\n"
     ]
    }
   ],
   "source": [
    "print(f'Prediction after training : f(5): {forward(5):.3f}')"
   ]
  },
  {
   "cell_type": "code",
   "execution_count": null,
   "id": "e6c13458",
   "metadata": {},
   "outputs": [],
   "source": []
  }
 ],
 "metadata": {
  "kernelspec": {
   "display_name": "yolo",
   "language": "python",
   "name": "yolo"
  },
  "language_info": {
   "codemirror_mode": {
    "name": "ipython",
    "version": 3
   },
   "file_extension": ".py",
   "mimetype": "text/x-python",
   "name": "python",
   "nbconvert_exporter": "python",
   "pygments_lexer": "ipython3",
   "version": "3.11.5"
  }
 },
 "nbformat": 4,
 "nbformat_minor": 5
}
