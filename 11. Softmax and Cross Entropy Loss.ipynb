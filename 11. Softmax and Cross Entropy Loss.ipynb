{
 "cells": [
  {
   "cell_type": "code",
   "execution_count": 1,
   "id": "28512e51",
   "metadata": {},
   "outputs": [],
   "source": [
    "import torch\n",
    "import torch.nn as nn\n",
    "import numpy as np"
   ]
  },
  {
   "cell_type": "code",
   "execution_count": 2,
   "id": "7f168e9a",
   "metadata": {},
   "outputs": [],
   "source": [
    "def softmax(x):\n",
    "    return np.exp(x)/np.sum(np.exp(x),axis=0)"
   ]
  },
  {
   "cell_type": "code",
   "execution_count": 3,
   "id": "85851eb4",
   "metadata": {},
   "outputs": [
    {
     "name": "stdout",
     "output_type": "stream",
     "text": [
      "softmax numpy: [0.65900114 0.24243297 0.09856589]\n"
     ]
    }
   ],
   "source": [
    "x=np.array([2.0,1.0,0.1])\n",
    "outputs=softmax(x)\n",
    "print('softmax numpy:',outputs)"
   ]
  },
  {
   "cell_type": "code",
   "execution_count": 5,
   "id": "8d555da0",
   "metadata": {},
   "outputs": [
    {
     "data": {
      "text/plain": [
       "tensor([0.6590, 0.2424, 0.0986])"
      ]
     },
     "execution_count": 5,
     "metadata": {},
     "output_type": "execute_result"
    }
   ],
   "source": [
    "x=torch.tensor([2.0,1.0,0.1])\n",
    "outputs=torch.softmax(x,dim=0)\n",
    "outputs"
   ]
  },
  {
   "cell_type": "markdown",
   "id": "5221c087",
   "metadata": {},
   "source": [
    "Lots of time softmax is combined with cross entropy loss\n",
    "<br> used for calssification\n"
   ]
  },
  {
   "cell_type": "code",
   "execution_count": 14,
   "id": "55f58aa0",
   "metadata": {},
   "outputs": [],
   "source": [
    "def cross_entropy(actual,predicted):\n",
    "    loss=np.sum(actual * np.log(predicted))\n",
    "    return loss"
   ]
  },
  {
   "cell_type": "markdown",
   "id": "966e38d5",
   "metadata": {},
   "source": [
    "y must be one hot encoded\n",
    "<br> if class 0: [1 0 0 ]\n",
    "<br> if class 1: [0 1 0]\n",
    "<br> if class 2: [0 0 1]"
   ]
  },
  {
   "cell_type": "code",
   "execution_count": 15,
   "id": "5e5bf417",
   "metadata": {},
   "outputs": [],
   "source": [
    "Y=np.array([1,0,0])"
   ]
  },
  {
   "cell_type": "code",
   "execution_count": 16,
   "id": "a7f27a11",
   "metadata": {},
   "outputs": [],
   "source": [
    "y_pred_good=np.array([0.7,0.2,0.1])\n",
    "y_pred_bad=np.array([0.1,0.3,0.6])"
   ]
  },
  {
   "cell_type": "code",
   "execution_count": 17,
   "id": "6e68c35d",
   "metadata": {},
   "outputs": [],
   "source": [
    "l1=cross_entropy(Y,y_pred_good)\n",
    "l2=cross_entropy(Y,y_pred_bad)"
   ]
  },
  {
   "cell_type": "code",
   "execution_count": 18,
   "id": "6efaa384",
   "metadata": {},
   "outputs": [
    {
     "name": "stdout",
     "output_type": "stream",
     "text": [
      "Good Predition -0.35667494393873245\n",
      "Bad prediction -2.3025850929940455\n"
     ]
    }
   ],
   "source": [
    "print(\"Good Predition\",l1)\n",
    "print(\"Bad prediction\",l2)"
   ]
  },
  {
   "cell_type": "code",
   "execution_count": 31,
   "id": "aa9ab082",
   "metadata": {},
   "outputs": [],
   "source": [
    "loss=nn.CrossEntropyLoss()"
   ]
  },
  {
   "cell_type": "code",
   "execution_count": 32,
   "id": "f098648c",
   "metadata": {},
   "outputs": [],
   "source": [
    "Y=torch.tensor([0])\n",
    "#number of samples * nclasses=1*3"
   ]
  },
  {
   "cell_type": "code",
   "execution_count": 33,
   "id": "ddc8f23a",
   "metadata": {},
   "outputs": [],
   "source": [
    "y_pred_good=torch.tensor([[0.7,0.2,0.1]])"
   ]
  },
  {
   "cell_type": "code",
   "execution_count": 40,
   "id": "3c999e93",
   "metadata": {},
   "outputs": [],
   "source": [
    "y_pred_bad=torch.tensor([[0.3,0.6,0.1]])"
   ]
  },
  {
   "cell_type": "code",
   "execution_count": 41,
   "id": "710a5ec8",
   "metadata": {},
   "outputs": [],
   "source": [
    "l1=loss(y_pred_good,Y)\n",
    "l2=loss(y_pred_bad,Y)\n"
   ]
  },
  {
   "cell_type": "code",
   "execution_count": 42,
   "id": "0133d9de",
   "metadata": {},
   "outputs": [
    {
     "name": "stdout",
     "output_type": "stream",
     "text": [
      "good loss: 0.274\n",
      "bad loss: 1.153\n"
     ]
    }
   ],
   "source": [
    "print(f'good loss: {l1:.3f}')\n",
    "print(f'bad loss: {l2:.3f}')"
   ]
  },
  {
   "cell_type": "code",
   "execution_count": 48,
   "id": "d7038d3d",
   "metadata": {},
   "outputs": [],
   "source": [
    "_,predictions1=torch.max(y_pred_good,axis=1)\n",
    "_,predictions2=torch.max(y_pred_bad,axis=1)"
   ]
  },
  {
   "cell_type": "code",
   "execution_count": 49,
   "id": "1d096253",
   "metadata": {},
   "outputs": [
    {
     "data": {
      "text/plain": [
       "tensor([0])"
      ]
     },
     "execution_count": 49,
     "metadata": {},
     "output_type": "execute_result"
    }
   ],
   "source": [
    "predictions1"
   ]
  },
  {
   "cell_type": "code",
   "execution_count": 50,
   "id": "b77d4ab5",
   "metadata": {},
   "outputs": [
    {
     "data": {
      "text/plain": [
       "tensor([1])"
      ]
     },
     "execution_count": 50,
     "metadata": {},
     "output_type": "execute_result"
    }
   ],
   "source": [
    "predictions2"
   ]
  },
  {
   "cell_type": "code",
   "execution_count": 51,
   "id": "361349b1",
   "metadata": {},
   "outputs": [],
   "source": [
    "#samples\n",
    "Y=torch.tensor([2,0,1])"
   ]
  },
  {
   "cell_type": "code",
   "execution_count": 52,
   "id": "66b86af6",
   "metadata": {},
   "outputs": [],
   "source": [
    "y_pred_good=torch.tensor([[0,0,1.0],[0.8,0.1,0.1],[0.2,0.7,0.1]])"
   ]
  },
  {
   "cell_type": "code",
   "execution_count": 53,
   "id": "9907f986",
   "metadata": {},
   "outputs": [],
   "source": [
    "y_pred_bad=torch.tensor([[0,1.0,0],[0.1,0.8,0.1],[0.7,0.2,0.1]])"
   ]
  },
  {
   "cell_type": "code",
   "execution_count": 54,
   "id": "30c2e732",
   "metadata": {},
   "outputs": [],
   "source": [
    "l1=loss(y_pred_good,Y)\n",
    "l2=loss(y_pred_bad,Y)"
   ]
  },
  {
   "cell_type": "code",
   "execution_count": 55,
   "id": "64209f4f",
   "metadata": {},
   "outputs": [
    {
     "data": {
      "text/plain": [
       "tensor(0.6697)"
      ]
     },
     "execution_count": 55,
     "metadata": {},
     "output_type": "execute_result"
    }
   ],
   "source": [
    "l1"
   ]
  },
  {
   "cell_type": "code",
   "execution_count": 56,
   "id": "973ec380",
   "metadata": {},
   "outputs": [
    {
     "data": {
      "text/plain": [
       "tensor(1.4030)"
      ]
     },
     "execution_count": 56,
     "metadata": {},
     "output_type": "execute_result"
    }
   ],
   "source": [
    "l2"
   ]
  },
  {
   "cell_type": "code",
   "execution_count": 57,
   "id": "53b73cb9",
   "metadata": {},
   "outputs": [],
   "source": [
    "_,predictions1=torch.max(y_pred_good,axis=1)\n",
    "_,predictions2=torch.max(y_pred_bad,axis=1)"
   ]
  },
  {
   "cell_type": "code",
   "execution_count": 58,
   "id": "eab4bda2",
   "metadata": {},
   "outputs": [
    {
     "data": {
      "text/plain": [
       "tensor([2, 0, 1])"
      ]
     },
     "execution_count": 58,
     "metadata": {},
     "output_type": "execute_result"
    }
   ],
   "source": [
    "predictions1"
   ]
  },
  {
   "cell_type": "code",
   "execution_count": 59,
   "id": "c3136154",
   "metadata": {},
   "outputs": [
    {
     "data": {
      "text/plain": [
       "tensor([1, 1, 0])"
      ]
     },
     "execution_count": 59,
     "metadata": {},
     "output_type": "execute_result"
    }
   ],
   "source": [
    "predictions2"
   ]
  },
  {
   "cell_type": "code",
   "execution_count": 61,
   "id": "c724c835",
   "metadata": {},
   "outputs": [],
   "source": [
    "class NeuralNet2(nn.Module):\n",
    "    def __init__(self,input_size,hidden_size,num_classes):\n",
    "        super(NeuralNet2,self).__init__()\n",
    "        self.linear=nn.Linear(input_size,hidden_size)\n",
    "        self.relu=nn.ReLU()\n",
    "        self.linear2=nn.Linear(hidden_size,num_classes)\n",
    "    def forward(self,x):\n",
    "        out=self.linear(x)\n",
    "        out=self.relu(out)\n",
    "        out=self.linear2(out)\n",
    "        return out"
   ]
  },
  {
   "cell_type": "code",
   "execution_count": 62,
   "id": "425a3c86",
   "metadata": {},
   "outputs": [],
   "source": [
    "model=NeuralNet2(input_size=28*28,hidden_size=5,num_classes=3)\n",
    "criterion=nn.CrossEntropyLoss()"
   ]
  },
  {
   "cell_type": "code",
   "execution_count": null,
   "id": "0eba036f",
   "metadata": {},
   "outputs": [],
   "source": []
  }
 ],
 "metadata": {
  "kernelspec": {
   "display_name": "Python 3 (ipykernel)",
   "language": "python",
   "name": "python3"
  },
  "language_info": {
   "codemirror_mode": {
    "name": "ipython",
    "version": 3
   },
   "file_extension": ".py",
   "mimetype": "text/x-python",
   "name": "python",
   "nbconvert_exporter": "python",
   "pygments_lexer": "ipython3",
   "version": "3.11.5"
  }
 },
 "nbformat": 4,
 "nbformat_minor": 5
}
